{
 "cells": [
  {
   "cell_type": "code",
   "id": "initial_id",
   "metadata": {
    "collapsed": true,
    "ExecuteTime": {
     "end_time": "2024-04-29T12:03:06.420933Z",
     "start_time": "2024-04-29T12:02:58.646870Z"
    }
   },
   "source": [
    "# tensorflow_text, tensorflow, matplotlib\n",
    "import numpy as np\n",
    "\n",
    "import typing\n",
    "from typing import Any, Tuple\n",
    "# Customize types\n",
    "import tensorflow as tf\n",
    "from tensorflow.keras.layers.experimental import preprocessing\n",
    "# import preprocess module\n",
    "import tensorflow_text as tf_text\n",
    "import matplotlib.pyplot as plt\n",
    "import matplotlib.ticker as ticker"
   ],
   "outputs": [],
   "execution_count": 2
  },
  {
   "metadata": {
    "ExecuteTime": {
     "end_time": "2024-04-29T12:03:06.436404Z",
     "start_time": "2024-04-29T12:03:06.423436Z"
    }
   },
   "cell_type": "code",
   "source": [
    "class ShapeChecker:\n",
    "    def __init__(self):\n",
    "        # save every cache\n",
    "        self.shapes = {}\n",
    "\n",
    "    def __call__(self, tensor, names, broadcast=False):\n",
    "        if not tf.executing_eagerly():\n",
    "            return\n",
    "\n",
    "        if isinstance(names, str):\n",
    "            names = (names,)\n",
    "\n",
    "        shape = tf.shape(tensor)\n",
    "        rank = tf.rank(tensor)\n",
    "\n",
    "        if rank != len(names):\n",
    "            raise ValueError(f'Rank mismatch:\\n'\n",
    "                             f'    found {rank}: {shape.numpy()}\\n'\n",
    "                             f'    expected {len(names)}: {names}\\n')\n",
    "\n",
    "        for i, name in enumerate(names):\n",
    "            if isinstance(name, int):\n",
    "                old_dim = name\n",
    "            else:\n",
    "                old_dim = self.shapes.get(name, None)\n",
    "            new_dim = shape[i]\n",
    "\n",
    "            if broadcast and new_dim == 1:\n",
    "                continue\n",
    "\n",
    "            if old_dim is None:\n",
    "                # if the name is new, save it to the cache\n",
    "                self.shapes[name] = new_dim\n",
    "                continue\n",
    "\n",
    "            if new_dim != old_dim:\n",
    "                raise ValueError(f\"Shape mismatch for dimension: '{name}'\\n\"\n",
    "                                 f\"    found: {new_dim}\\n\"\n",
    "                                 f\"    expected: {old_dim}\\n\")\n"
   ],
   "id": "42a9b1393d063af2",
   "outputs": [],
   "execution_count": 3
  },
  {
   "metadata": {
    "ExecuteTime": {
     "end_time": "2024-04-29T12:03:06.529233Z",
     "start_time": "2024-04-29T12:03:06.439399Z"
    }
   },
   "cell_type": "code",
   "source": [
    "# Download the file\n",
    "import pathlib\n",
    "\n",
    "path_to_zip = tf.keras.utils.get_file(\n",
    "    'spa-eng.zip', origin='http://storage.googleapis.com/download.tensorflow.org/data/spa-eng.zip',\n",
    "    extract=True)\n",
    "\n",
    "path_to_file = pathlib.Path(path_to_zip).parent /'spa-eng/spa.txt'\n"
   ],
   "id": "485b5de119708900",
   "outputs": [],
   "execution_count": 4
  },
  {
   "metadata": {
    "ExecuteTime": {
     "end_time": "2024-04-29T12:03:06.545014Z",
     "start_time": "2024-04-29T12:03:06.532226Z"
    }
   },
   "cell_type": "code",
   "source": [
    "\n",
    "def load_data(path):\n",
    "    text = path.read_text(encoding='utf-8')\n",
    "\n",
    "    lines = text.splitlines()\n",
    "    pairs = [line.split('\\t') for line in lines]\n",
    "\n",
    "    inp = [inp for targ, inp in pairs]\n",
    "    targ = [targ for targ, inp in pairs]\n",
    "\n",
    "    return targ, inp"
   ],
   "id": "5956e97d2c6a4eb8",
   "outputs": [],
   "execution_count": 5
  },
  {
   "metadata": {
    "ExecuteTime": {
     "end_time": "2024-04-29T12:03:07.859262Z",
     "start_time": "2024-04-29T12:03:06.547214Z"
    }
   },
   "cell_type": "code",
   "source": [
    "targ, inp = load_data(path_to_file)\n",
    "BUFFER_SIZE = len(inp)\n",
    "BATCH_SIZE = 64\n",
    "# create a tf.data.Dataset string to wash the data and batch it efficiently\n",
    "dataset = tf.data.Dataset.from_tensor_slices((inp, targ)).shuffle(BUFFER_SIZE)\n",
    "dataset = dataset.batch(BATCH_SIZE)"
   ],
   "id": "4475a6549acef647",
   "outputs": [],
   "execution_count": 6
  },
  {
   "metadata": {
    "ExecuteTime": {
     "end_time": "2024-04-29T12:03:07.998523Z",
     "start_time": "2024-04-29T12:03:07.861258Z"
    }
   },
   "cell_type": "code",
   "source": [
    "for example_input_batch, example_target_batch in dataset.take(1):\n",
    "    print(example_input_batch[:5])\n",
    "    print()\n",
    "    print(example_target_batch[:5])\n",
    "    break\n"
   ],
   "id": "ac17296a84086aed",
   "outputs": [
    {
     "name": "stdout",
     "output_type": "stream",
     "text": [
      "tf.Tensor(\n",
      "[b'Es muy popular.' b'\\xc2\\xbfTiene un pasaje de vuelta a Jap\\xc3\\xb3n?'\n",
      " b'Por supuesto que te ayudar\\xc3\\xa9.'\n",
      " b'La dehesa est\\xc3\\xa1 llena de mala hierba.'\n",
      " b'Se meti\\xc3\\xb3 un ladr\\xc3\\xb3n a la casa mientras and\\xc3\\xa1bamos afuera.'], shape=(5,), dtype=string)\n",
      "\n",
      "tf.Tensor(\n",
      "[b\"It's very popular.\" b'Do you have a return ticket to Japan?'\n",
      " b'I will help you, of course.' b'The pasture is full of weeds.'\n",
      " b'A thief broke into the house while we were away.'], shape=(5,), dtype=string)\n"
     ]
    }
   ],
   "execution_count": 7
  },
  {
   "metadata": {
    "ExecuteTime": {
     "end_time": "2024-04-29T12:03:08.013989Z",
     "start_time": "2024-04-29T12:03:08.000999Z"
    }
   },
   "cell_type": "code",
   "source": [
    "example_text = tf.constant('¿Todavía está en casa?')\n",
    "\n",
    "print(example_text.numpy())\n",
    "print(tf_text.normalize_utf8(example_text, 'NFKD').numpy())"
   ],
   "id": "68b40f0e4e351426",
   "outputs": [
    {
     "name": "stdout",
     "output_type": "stream",
     "text": [
      "b'\\xc2\\xbfTodav\\xc3\\xada est\\xc3\\xa1 en casa?'\n",
      "b'\\xc2\\xbfTodavi\\xcc\\x81a esta\\xcc\\x81 en casa?'\n"
     ]
    }
   ],
   "execution_count": 8
  },
  {
   "metadata": {
    "ExecuteTime": {
     "end_time": "2024-04-29T12:03:08.029620Z",
     "start_time": "2024-04-29T12:03:08.018985Z"
    }
   },
   "cell_type": "code",
   "source": [
    "def tf_lower_and_split_punct(text):\n",
    "    # 对字符进行切分\n",
    "    text = tf_text.normalize_utf8(text, 'NFKD')\n",
    "    text = tf.strings.lower(text)\n",
    "    # 保持空格，从a到z，并选择标点符号。\n",
    "    text = tf.strings.regex_replace(text, '[^ a-z.?!,¿]', '')\n",
    "    # 在标点符号周围添加空格。\n",
    "    text = tf.strings.regex_replace(text, '[.?!,¿]', r' \\0 ')\n",
    "    # 去空格。\n",
    "    text = tf.strings.strip(text)\n",
    "    text = tf.strings.join(['[START]', text, '[END]'], separator=' ')\n",
    "    return text"
   ],
   "id": "e7b1bf603f12b66",
   "outputs": [],
   "execution_count": 9
  },
  {
   "metadata": {
    "ExecuteTime": {
     "end_time": "2024-04-29T12:03:08.044918Z",
     "start_time": "2024-04-29T12:03:08.033440Z"
    }
   },
   "cell_type": "code",
   "source": [
    "print(example_text.numpy().decode())\n",
    "# 输出解码结果(德语)\n",
    "print(tf_lower_and_split_punct(example_text).numpy().decode())\n",
    "# 对句子进行头尾标注\n",
    "# 输出结果：\n",
    "# ¿Todavía está en casa?\n",
    "# [START] ¿ todavia esta en casa ? [END]"
   ],
   "id": "56aa451228bda03b",
   "outputs": [
    {
     "name": "stdout",
     "output_type": "stream",
     "text": [
      "¿Todavía está en casa?\n",
      "[START] ¿ todavia esta en casa ? [END]\n"
     ]
    }
   ],
   "execution_count": 10
  },
  {
   "metadata": {
    "ExecuteTime": {
     "end_time": "2024-04-29T12:03:08.091831Z",
     "start_time": "2024-04-29T12:03:08.047413Z"
    }
   },
   "cell_type": "code",
   "source": [
    "max_vocab_size = 5000\n",
    "\n",
    "input_text_processor = preprocessing.TextVectorization(\n",
    "    standardize=tf_lower_and_split_punct,\n",
    "    max_tokens=max_vocab_size)"
   ],
   "id": "1e45d49e8b42afe0",
   "outputs": [],
   "execution_count": 11
  },
  {
   "metadata": {
    "ExecuteTime": {
     "end_time": "2024-04-29T12:03:12.144983Z",
     "start_time": "2024-04-29T12:03:08.094826Z"
    }
   },
   "cell_type": "code",
   "source": [
    "input_text_processor.adapt(inp)\n",
    "# this is first 10 words in vocabulary\n",
    "print(input_text_processor.get_vocabulary()[:10])"
   ],
   "id": "ba1992dcbd1177aa",
   "outputs": [
    {
     "name": "stdout",
     "output_type": "stream",
     "text": [
      "['', '[UNK]', '[START]', '[END]', '.', 'que', 'de', 'el', 'a', 'no']\n"
     ]
    }
   ],
   "execution_count": 12
  },
  {
   "metadata": {
    "ExecuteTime": {
     "end_time": "2024-04-29T12:03:14.635694Z",
     "start_time": "2024-04-29T12:03:12.146800Z"
    }
   },
   "cell_type": "code",
   "source": [
    "output_text_processor = preprocessing.TextVectorization(\n",
    "    standardize=tf_lower_and_split_punct,\n",
    "    max_tokens=max_vocab_size)\n",
    "output_text_processor.adapt(targ)\n",
    "print(output_text_processor.get_vocabulary()[:10])"
   ],
   "id": "8a1b40bc6a8a00a4",
   "outputs": [
    {
     "name": "stdout",
     "output_type": "stream",
     "text": [
      "['', '[UNK]', '[START]', '[END]', '.', 'the', 'i', 'to', 'you', 'tom']\n"
     ]
    }
   ],
   "execution_count": 13
  },
  {
   "metadata": {
    "ExecuteTime": {
     "end_time": "2024-04-29T12:03:14.651363Z",
     "start_time": "2024-04-29T12:03:14.637677Z"
    }
   },
   "cell_type": "code",
   "source": [
    "example_tokens = input_text_processor(example_input_batch)\n",
    "print(example_tokens[:3, :10])"
   ],
   "id": "7ec369b4228b2eeb",
   "outputs": [
    {
     "name": "stdout",
     "output_type": "stream",
     "text": [
      "tf.Tensor(\n",
      "[[   2   15   42 1298    4    3    0    0    0    0]\n",
      " [   2   13   44   16 3406    6  557    8  250   12]\n",
      " [   2   21 1931    5   30 3489    4    3    0    0]], shape=(3, 10), dtype=int64)\n"
     ]
    }
   ],
   "execution_count": 14
  },
  {
   "metadata": {
    "ExecuteTime": {
     "end_time": "2024-04-29T12:03:14.682113Z",
     "start_time": "2024-04-29T12:03:14.653665Z"
    }
   },
   "cell_type": "code",
   "source": [
    "input_vocab = np.array(input_text_processor.get_vocabulary())\n",
    "tokens = input_vocab[example_tokens[0].numpy()]\n",
    "' '.join(tokens)"
   ],
   "id": "91ebdba501f9f30e",
   "outputs": [
    {
     "data": {
      "text/plain": [
       "'[START] es muy popular . [END]                '"
      ]
     },
     "execution_count": 15,
     "metadata": {},
     "output_type": "execute_result"
    }
   ],
   "execution_count": 15
  },
  {
   "metadata": {
    "ExecuteTime": {
     "end_time": "2024-04-29T12:03:14.960640Z",
     "start_time": "2024-04-29T12:03:14.684588Z"
    }
   },
   "cell_type": "code",
   "source": [
    "plt.subplot(1, 2, 1)\n",
    "plt.pcolormesh(example_tokens)\n",
    "plt.title('Token IDs')\n",
    "plt.subplot(1, 2, 2)\n",
    "plt.pcolormesh(example_tokens != 0)\n",
    "plt.title('Mask')"
   ],
   "id": "94279d9c634fd979",
   "outputs": [
    {
     "data": {
      "text/plain": [
       "Text(0.5, 1.0, 'Mask')"
      ]
     },
     "execution_count": 16,
     "metadata": {},
     "output_type": "execute_result"
    },
    {
     "data": {
      "text/plain": [
       "<Figure size 432x288 with 2 Axes>"
      ],
      "image/png": "[encoded data removed]"
     },
     "metadata": {
      "needs_background": "light"
     },
     "output_type": "display_data"
    }
   ],
   "execution_count": 16
  },
  {
   "metadata": {
    "ExecuteTime": {
     "end_time": "2024-04-29T12:03:14.976047Z",
     "start_time": "2024-04-29T12:03:14.963086Z"
    }
   },
   "cell_type": "code",
   "source": [
    "#嵌入维度\n",
    "embedding_dim = 256\n",
    "#隐藏单元个数\n",
    "units = 1024"
   ],
   "id": "92b008892c8694cc",
   "outputs": [],
   "execution_count": 17
  },
  {
   "metadata": {
    "ExecuteTime": {
     "end_time": "2024-04-29T12:03:14.991518Z",
     "start_time": "2024-04-29T12:03:14.978544Z"
    }
   },
   "cell_type": "code",
   "source": [
    "class Encoder(tf.keras.layers.Layer):\n",
    "    def __init__(self, input_vocab_size, embedding_dim, enc_units):\n",
    "        super(Encoder, self).__init__()\n",
    "        self.enc_units = enc_units\n",
    "        self.input_vocab_size = input_vocab_size\n",
    "        # 嵌入层将令牌转换为向量\n",
    "        self.embedding = tf.keras.layers.Embedding(self.input_vocab_size,\n",
    "                                                   embedding_dim)\n",
    "        # GRU RNN层依次处理这些向量。\n",
    "        self.gru = tf.keras.layers.GRU(self.enc_units,\n",
    "                                       return_sequences=True,\n",
    "                                       return_state=True,\n",
    "                                       recurrent_initializer='glorot_uniform')\n",
    "\n",
    "    def call(self, tokens, state=None):\n",
    "        shape_checker = ShapeChecker()\n",
    "        shape_checker(tokens, ('batch', 's'))\n",
    "        # 嵌入层查找每个标记的嵌入情况。\n",
    "        vectors = self.embedding(tokens)\n",
    "        shape_checker(vectors, ('batch', 's', 'embed_dim'))\n",
    "        output, state = self.gru(vectors, initial_state=state)\n",
    "        shape_checker(output, ('batch', 's', 'enc_units'))\n",
    "        shape_checker(state, ('batch', 'enc_units'))\n",
    "        # 返回新的序列和它的状态。\n",
    "        return output, state\n"
   ],
   "id": "33858f34e8e65108",
   "outputs": [],
   "execution_count": 18
  },
  {
   "metadata": {
    "ExecuteTime": {
     "end_time": "2024-04-29T12:03:15.254529Z",
     "start_time": "2024-04-29T12:03:14.994014Z"
    }
   },
   "cell_type": "code",
   "source": [
    "# 将输入的文本转换为token。\n",
    "example_tokens = input_text_processor(example_input_batch)\n",
    "# 对输入序列进行编码。\n",
    "encoder = Encoder(input_text_processor.vocabulary_size(),\n",
    "                  embedding_dim, units)\n",
    "example_enc_output, example_enc_state = encoder(example_tokens)\n",
    "print(f'Input batch, shape (batch): {example_input_batch.shape}')\n",
    "print(f'Input batch tokens, shape (batch, s): {example_tokens.shape}')\n",
    "print(f'Encoder output, shape (batch, s, units): {example_enc_output.shape}')\n",
    "print(f'Encoder state, shape (batch, units): {example_enc_state.shape}')"
   ],
   "id": "d1b80a889960f0bc",
   "outputs": [
    {
     "name": "stdout",
     "output_type": "stream",
     "text": [
      "Input batch, shape (batch): (64,)\n",
      "Input batch tokens, shape (batch, s): (64, 22)\n",
      "Encoder output, shape (batch, s, units): (64, 22, 1024)\n",
      "Encoder state, shape (batch, units): (64, 1024)\n"
     ]
    }
   ],
   "execution_count": 19
  },
  {
   "metadata": {
    "ExecuteTime": {
     "end_time": "2024-04-29T12:03:15.270031Z",
     "start_time": "2024-04-29T12:03:15.257026Z"
    }
   },
   "cell_type": "code",
   "source": [
    "class BahdanauAttention(tf.keras.layers.Layer):\n",
    "    def __init__(self, units):\n",
    "        super().__init__()\n",
    "        self.W1 = tf.keras.layers.Dense(units, use_bias=False)\n",
    "        self.W2 = tf.keras.layers.Dense(units, use_bias=False)\n",
    "        self.attention = tf.keras.layers.AdditiveAttention()\n",
    "\n",
    "    def call(self, query, value, mask):\n",
    "        shape_checker = ShapeChecker()\n",
    "        shape_checker(query, ('batch', 't', 'query_units'))\n",
    "        shape_checker(value, ('batch', 's', 'value_units'))\n",
    "        shape_checker(mask, ('batch', 's'))\n",
    "        # 构建Query矩阵\n",
    "        w1_query = self.W1(query)\n",
    "        shape_checker(w1_query, ('batch', 't', 'attn_units'))\n",
    "        # 构建Key矩阵\n",
    "        w2_key = self.W2(value)\n",
    "        shape_checker(w2_key, ('batch', 's', 'attn_units'))\n",
    "        # 构建mask矩阵\n",
    "        query_mask = tf.ones(tf.shape(query)[:-1], dtype=bool)\n",
    "        value_mask = mask\n",
    "        # 计算得到注意力图谱\n",
    "        context_vector, attention_weights = self.attention(\n",
    "            inputs=[w1_query, value, w2_key],\n",
    "            mask=[query_mask, value_mask],\n",
    "            return_attention_scores=True,\n",
    "        )\n",
    "        shape_checker(context_vector, ('batch', 't', 'value_units'))\n",
    "        shape_checker(attention_weights, ('batch', 't', 's'))\n",
    "        return context_vector, attention_weights"
   ],
   "id": "70fd654762f0305",
   "outputs": [],
   "execution_count": 20
  },
  {
   "metadata": {
    "ExecuteTime": {
     "end_time": "2024-04-29T12:03:15.347358Z",
     "start_time": "2024-04-29T12:03:15.271997Z"
    }
   },
   "cell_type": "code",
   "source": [
    "# test attention\n",
    "# 创建一个BahdanauAttention层\n",
    "attention_layer = BahdanauAttention(units)\n",
    "# 后续解码器将产生这个attention查询(Query矩阵)\n",
    "example_attention_query = tf.random.normal(shape=[len(example_tokens), 2, 10])\n",
    "# 添加到编码tokens\n",
    "context_vector, attention_weights = attention_layer(\n",
    "    query=example_attention_query,\n",
    "    value=example_enc_output,\n",
    "    mask=(example_tokens != 0))\n",
    "\n",
    "print(f'Attention result shape: (batch_size, query_seq_length, units): {context_vector.shape}')\n",
    "\n",
    "print(f'Attention weights shape: (batch_size, query_seq_length,value_seq_length): {attention_weights.shape}')"
   ],
   "id": "376e9c3e42ba190e",
   "outputs": [
    {
     "name": "stdout",
     "output_type": "stream",
     "text": [
      "Attention result shape: (batch_size, query_seq_length, units): (64, 2, 1024)\n",
      "Attention weights shape: (batch_size, query_seq_length,value_seq_length): (64, 2, 22)\n"
     ]
    }
   ],
   "execution_count": 21
  },
  {
   "metadata": {
    "ExecuteTime": {
     "end_time": "2024-04-29T12:03:15.548458Z",
     "start_time": "2024-04-29T12:03:15.348855Z"
    }
   },
   "cell_type": "code",
   "source": [
    "plt.subplot(1, 2, 1)\n",
    "plt.pcolormesh(attention_weights[:, 0, :])\n",
    "plt.title('Attention weights')\n",
    "plt.subplot(1, 2, 2)\n",
    "plt.pcolormesh(example_tokens != 0)\n",
    "plt.title('Mask')\n",
    "# 输出结果：\n",
    "# Text(0.5, 1.0, 'Mask')"
   ],
   "id": "99c4dd2e35ab31b9",
   "outputs": [
    {
     "data": {
      "text/plain": [
       "Text(0.5, 1.0, 'Mask')"
      ]
     },
     "execution_count": 22,
     "metadata": {},
     "output_type": "execute_result"
    },
    {
     "data": {
      "text/plain": [
       "<Figure size 432x288 with 2 Axes>"
      ],
      "image/png": "[encoded data removed]"
     },
     "metadata": {
      "needs_background": "light"
     },
     "output_type": "display_data"
    }
   ],
   "execution_count": 22
  },
  {
   "metadata": {
    "ExecuteTime": {
     "end_time": "2024-04-29T12:03:15.919723Z",
     "start_time": "2024-04-29T12:03:15.550423Z"
    }
   },
   "cell_type": "code",
   "source": [
    "#取出部分attention用于展示\n",
    "attention_slice = attention_weights[0, 0].numpy()\n",
    "attention_slice = attention_slice[attention_slice != 0]\n",
    "plt.suptitle('Attention weights for one sequence')\n",
    "plt.figure(figsize=(12, 6))\n",
    "a1 = plt.subplot(1, 2, 1)\n",
    "plt.bar(range(len(attention_slice)), attention_slice)\n",
    "# 固定x轴\n",
    "plt.xlim(plt.xlim())\n",
    "plt.xlabel('Attention weights')\n",
    "a2 = plt.subplot(1, 2, 2)\n",
    "plt.bar(range(len(attention_slice)), attention_slice)\n",
    "plt.xlabel('Attention weights, zoomed')\n",
    "# 放大结果\n",
    "top = max(a1.get_ylim())\n",
    "zoom = 0.85 * top\n",
    "a2.set_ylim([0.90 * top, top])\n",
    "a1.plot(a1.get_xlim(), [zoom, zoom], color='k')\n",
    "\n",
    "\n",
    "# 输出结果：\n",
    "# [<matplotlib.lines.Line2D at 0x20c356a9670>]\n",
    "# <Figure size 432x288 with 0 Axes>"
   ],
   "id": "4099e18f7321e049",
   "outputs": [
    {
     "data": {
      "text/plain": [
       "[<matplotlib.lines.Line2D at 0x253c25e92e8>]"
      ]
     },
     "execution_count": 23,
     "metadata": {},
     "output_type": "execute_result"
    },
    {
     "data": {
      "text/plain": [
       "<Figure size 432x288 with 0 Axes>"
      ]
     },
     "metadata": {},
     "output_type": "display_data"
    },
    {
     "data": {
      "text/plain": [
       "<Figure size 864x432 with 2 Axes>"
      ],
      "image/png": "[encoded data removed]"
     },
     "metadata": {
      "needs_background": "light"
     },
     "output_type": "display_data"
    }
   ],
   "execution_count": 23
  },
  {
   "metadata": {
    "ExecuteTime": {
     "end_time": "2024-04-29T12:03:15.950665Z",
     "start_time": "2024-04-29T12:03:15.927708Z"
    }
   },
   "cell_type": "code",
   "source": [
    "class Decoder(tf.keras.layers.Layer):\n",
    "    def __init__(self, output_vocab_size, embedding_dim, dec_units):\n",
    "        super(Decoder, self).__init__()\n",
    "        self.dec_units = dec_units\n",
    "        self.output_vocab_size = output_vocab_size\n",
    "        self.embedding_dim = embedding_dim\n",
    "\n",
    "        # 嵌入层将令牌ID转为向量\n",
    "        self.embedding = tf.keras.layers.Embedding(self.output_vocab_size,\n",
    "                                                   embedding_dim)\n",
    "        # RNN会记录到目前为止已经生成的内容。\n",
    "        self.gru = tf.keras.layers.GRU(self.dec_units,\n",
    "                                       return_sequences=True,\n",
    "                                       return_state=True,\n",
    "                                       recurrent_initializer='glorot_uniform')\n",
    "        # RNN的输出将是注意力层的查询。\n",
    "        self.attention = BahdanauAttention(self.dec_units)\n",
    "        self.Wc = tf.keras.layers.Dense(dec_units, activation=tf.math.tanh,\n",
    "                                        use_bias=False)\n",
    "        self.fc = tf.keras.layers.Dense(self.output_vocab_size)"
   ],
   "id": "b09fb5c11dbc3e3b",
   "outputs": [],
   "execution_count": 24
  },
  {
   "metadata": {
    "ExecuteTime": {
     "end_time": "2024-04-29T12:03:15.966261Z",
     "start_time": "2024-04-29T12:03:15.954658Z"
    }
   },
   "cell_type": "code",
   "source": [
    "class DecoderInput(typing.NamedTuple):\n",
    "    new_tokens: Any\n",
    "    enc_output: Any\n",
    "    mask: Any\n",
    "\n",
    "\n",
    "class DecoderOutput(typing.NamedTuple):\n",
    "    logits: Any\n",
    "    attention_weights: Any"
   ],
   "id": "b7895dcff51bc6bd",
   "outputs": [],
   "execution_count": 25
  },
  {
   "metadata": {
    "ExecuteTime": {
     "end_time": "2024-04-29T12:03:15.997078Z",
     "start_time": "2024-04-29T12:03:15.969131Z"
    }
   },
   "cell_type": "code",
   "source": [
    "def call(self,\n",
    "         inputs: DecoderInput,\n",
    "         state=None) -> Tuple[DecoderOutput, tf.Tensor]:\n",
    "    shape_checker = ShapeChecker()\n",
    "    shape_checker(inputs.new_tokens, ('batch', 't'))\n",
    "    shape_checker(inputs.enc_output, ('batch', 's', 'enc_units'))\n",
    "    shape_checker(inputs.mask, ('batch', 's'))\n",
    "    if state is not None:\n",
    "        shape_checker(state, ('batch', 'dec_units'))\n",
    "    #查询词嵌入\n",
    "    vectors = self.embedding(inputs.new_tokens)\n",
    "    shape_checker(vectors, ('batch', 't', 'embedding_dim'))\n",
    "    #用RNN处理一个步骤\n",
    "    rnn_output, state = self.gru(vectors, initial_state=state)\n",
    "    shape_checker(rnn_output, ('batch', 't', 'dec_units'))\n",
    "    shape_checker(state, ('batch', 'dec_units'))\n",
    "    #使用RNN输出作为关注的查询，超过了编码器的输出。\n",
    "\n",
    "    context_vector, attention_weights = self.attention(\n",
    "        query=rnn_output, value=inputs.enc_output, mask=inputs.mask)\n",
    "    shape_checker(context_vector, ('batch', 't', 'dec_units'))\n",
    "    shape_checker(attention_weights, ('batch', 't', 's'))\n",
    "    # 加入context_vector和rnn_output\n",
    "    context_and_rnn_output = tf.concat([context_vector, rnn_output], axis=-1)\n",
    "    attention_vector = self.Wc(context_and_rnn_output)\n",
    "    shape_checker(attention_vector, ('batch', 't', 'dec_units'))\n",
    "    # 生成logit预测\n",
    "    logits = self.fc(attention_vector)\n",
    "    shape_checker(logits, ('batch', 't', 'output_vocab_size'))\n",
    "    return DecoderOutput(logits, attention_weights), state"
   ],
   "id": "2a090632c7f1f4cc",
   "outputs": [],
   "execution_count": 26
  },
  {
   "metadata": {
    "ExecuteTime": {
     "end_time": "2024-04-29T12:03:16.028130Z",
     "start_time": "2024-04-29T12:03:15.999575Z"
    }
   },
   "cell_type": "code",
   "source": [
    "Decoder.call = call\n",
    "decoder = Decoder(output_text_processor.vocabulary_size(),\n",
    "                  embedding_dim, units)"
   ],
   "id": "6ca491eaa79919bc",
   "outputs": [],
   "execution_count": 27
  },
  {
   "metadata": {
    "ExecuteTime": {
     "end_time": "2024-04-29T12:03:16.058964Z",
     "start_time": "2024-04-29T12:03:16.031016Z"
    }
   },
   "cell_type": "code",
   "source": [
    "\n",
    "#转换目标序列，并收集[START]标记。\n",
    "example_output_tokens = output_text_processor(example_target_batch)\n",
    "start_index = output_text_processor.get_vocabulary().index('[START]')\n",
    "first_token = tf.constant([[start_index]] * example_output_tokens.shape[0])"
   ],
   "id": "8f9d744a6f575879",
   "outputs": [],
   "execution_count": 28
  },
  {
   "metadata": {
    "ExecuteTime": {
     "end_time": "2024-04-29T12:03:16.275562Z",
     "start_time": "2024-04-29T12:03:16.061459Z"
    }
   },
   "cell_type": "code",
   "source": [
    "#运行decoder\n",
    "dec_result, dec_state = decoder(\n",
    "    inputs=DecoderInput(new_tokens=first_token,\n",
    "                        enc_output=example_enc_output,\n",
    "                        mask=(example_tokens != 0)),\n",
    "    state=example_enc_state\n",
    ")\n",
    "print(f'logits shape: (batch_size, t, output_vocab_size)'\n",
    "      f'{dec_result.logits.shape}')\n",
    "print(f'state shape: (batch_size, dec_units) {dec_state.shape}')"
   ],
   "id": "ac8670868f7d900e",
   "outputs": [
    {
     "name": "stdout",
     "output_type": "stream",
     "text": [
      "logits shape: (batch_size, t, output_vocab_size)(64, 1, 5000)\n",
      "state shape: (batch_size, dec_units) (64, 1024)\n"
     ]
    }
   ],
   "execution_count": 29
  },
  {
   "metadata": {
    "ExecuteTime": {
     "end_time": "2024-04-29T12:03:16.306581Z",
     "start_time": "2024-04-29T12:03:16.278557Z"
    }
   },
   "cell_type": "code",
   "source": [
    "sampled_token = tf.random.categorical(dec_result.logits[:, 0, :], num_samples=1)\n",
    "#将令牌解码为输出的第一个单词。\n",
    "vocab = np.array(output_text_processor.get_vocabulary())\n",
    "first_word = vocab[sampled_token.numpy()]\n",
    "print(first_word[:5])"
   ],
   "id": "20eaa1a478485039",
   "outputs": [
    {
     "name": "stdout",
     "output_type": "stream",
     "text": [
      "[['ticket']\n",
      " ['intended']\n",
      " ['if']\n",
      " ['avoided']\n",
      " ['jury']]\n"
     ]
    }
   ],
   "execution_count": 30
  },
  {
   "metadata": {
    "ExecuteTime": {
     "end_time": "2024-04-29T12:03:16.383861Z",
     "start_time": "2024-04-29T12:03:16.308003Z"
    }
   },
   "cell_type": "code",
   "source": [
    "dec_result, dec_state = decoder(\n",
    "    DecoderInput(sampled_token,\n",
    "                 example_enc_output,\n",
    "                 mask=(example_tokens != 0)),\n",
    "    state=dec_state)\n",
    "sampled_token = tf.random.categorical(dec_result.logits[:, 0, :], num_samples=1)\n",
    "first_word = vocab[sampled_token.numpy()]\n",
    "print(first_word[:5])"
   ],
   "id": "d8cb160a6cb9cbe",
   "outputs": [
    {
     "name": "stdout",
     "output_type": "stream",
     "text": [
      "[['gym']\n",
      " ['escape']\n",
      " ['bite']\n",
      " ['referring']\n",
      " ['currently']]\n"
     ]
    }
   ],
   "execution_count": 31
  },
  {
   "metadata": {
    "ExecuteTime": {
     "end_time": "2024-04-29T12:03:16.399332Z",
     "start_time": "2024-04-29T12:03:16.386357Z"
    }
   },
   "cell_type": "code",
   "source": [
    "class MaskedLoss(tf.keras.losses.Loss):\n",
    "    def __init__(self):\n",
    "        self.name = 'masked_loss'\n",
    "        self.loss = tf.keras.losses.SparseCategoricalCrossentropy(\n",
    "            from_logits=True, reduction='none')\n",
    "\n",
    "    def __call__(self, y_true, y_pred):\n",
    "        shape_checker = ShapeChecker()\n",
    "        shape_checker(y_true, ('batch', 't'))\n",
    "        shape_checker(y_pred, ('batch', 't', 'logits'))\n",
    "        # 计算该批次中每一项的损失。\n",
    "        loss = self.loss(y_true, y_pred)\n",
    "        shape_checker(loss, ('batch', 't'))\n",
    "        # 屏蔽掉填充物上的损失。\n",
    "        mask = tf.cast(y_true != 0, tf.float32)\n",
    "        shape_checker(mask, ('batch', 't'))\n",
    "        loss *= mask\n",
    "        # 返回总的loss。\n",
    "        return tf.reduce_sum(loss)"
   ],
   "id": "85110b82afcc49e5",
   "outputs": [],
   "execution_count": 32
  },
  {
   "metadata": {
    "ExecuteTime": {
     "end_time": "2024-04-29T12:03:16.415070Z",
     "start_time": "2024-04-29T12:03:16.401329Z"
    }
   },
   "cell_type": "code",
   "source": [
    "class TrainTranslator(tf.keras.Model):\n",
    "    def __init__(self, embedding_dim, units,\n",
    "                 input_text_processor,\n",
    "                 output_text_processor,\n",
    "                 use_tf_function=True):\n",
    "        super().__init__()\n",
    "\n",
    "        # 构建编码器和解码器\n",
    "        encoder = Encoder(input_text_processor.vocabulary_size(),\n",
    "                          embedding_dim, units)\n",
    "        decoder = Decoder(output_text_processor.vocabulary_size(),\n",
    "                          embedding_dim, units)\n",
    "        self.encoder = encoder\n",
    "        self.decoder = decoder\n",
    "        self.input_text_processor = input_text_processor\n",
    "        self.output_text_processor = output_text_processor\n",
    "        self.use_tf_function = use_tf_function\n",
    "        self.shape_checker = ShapeChecker()\n",
    "\n",
    "    def train_step(self, inputs):\n",
    "        self.shape_checker = ShapeChecker()\n",
    "\n",
    "        if self.use_tf_function:\n",
    "            return self._tf_train_step(inputs)\n",
    "        else:\n",
    "            return self._train_step(inputs)"
   ],
   "id": "ff17f8833ae094f1",
   "outputs": [],
   "execution_count": 33
  },
  {
   "metadata": {
    "ExecuteTime": {
     "end_time": "2024-04-29T12:03:16.430274Z",
     "start_time": "2024-04-29T12:03:16.416801Z"
    }
   },
   "cell_type": "code",
   "source": [
    "def _preprocess(self, input_text, target_text):\n",
    "    self.shape_checker(input_text, ('batch',))\n",
    "    self.shape_checker(target_text, ('batch',))\n",
    "    # 将文本转换为tokens ID\n",
    "    input_tokens = self.input_text_processor(input_text)\n",
    "    target_tokens = self.output_text_processor(target_text)\n",
    "    self.shape_checker(input_tokens, ('batch', 's'))\n",
    "    self.shape_checker(target_tokens, ('batch', 't'))\n",
    "    # 将ID转换为掩码\n",
    "    input_mask = input_tokens != 0\n",
    "    self.shape_checker(input_mask, ('batch', 's'))\n",
    "    target_mask = target_tokens != 0\n",
    "\n",
    "    self.shape_checker(target_mask, ('batch', 't'))\n",
    "    return input_tokens, input_mask, target_tokens, target_mask\n",
    "\n",
    "\n",
    "TrainTranslator._preprocess = _preprocess"
   ],
   "id": "b22885ddaad01bde",
   "outputs": [],
   "execution_count": 34
  },
  {
   "metadata": {
    "ExecuteTime": {
     "end_time": "2024-04-29T12:03:16.445746Z",
     "start_time": "2024-04-29T12:03:16.432770Z"
    }
   },
   "cell_type": "code",
   "source": [
    "def _train_step(self, inputs):\n",
    "    input_text, target_text = inputs\n",
    "    (input_tokens, input_mask,\n",
    "     target_tokens, target_mask) = self._preprocess(input_text, target_text)\n",
    "    max_target_length = tf.shape(target_tokens)[1]\n",
    "    with tf.GradientTape() as tape:\n",
    "        #对输入进行编码\n",
    "        enc_output, enc_state = self.encoder(input_tokens)\n",
    "        self.shape_checker(enc_output, ('batch', 's', 'enc_units'))\n",
    "        self.shape_checker(enc_state, ('batch', 'enc_units'))\n",
    "        #将解码器的状态初始化为编码器的最终状态。\n",
    "        # 这只有在编码器和解码器有相同数量的单位时生效。\n",
    "        dec_state = enc_state\n",
    "        loss = tf.constant(0.0)\n",
    "        for t in tf.range(max_target_length - 1):\n",
    "            #从目标序列中传入两个token:\n",
    "            # 1.解码器的当前输入.\n",
    "            # 2.解码器下次预测的目标.\n",
    "            new_tokens = target_tokens[:, t:t + 2]\n",
    "            step_loss, dec_state = self._loop_step(new_tokens, input_mask,\n",
    "                                                   enc_output, dec_state)\n",
    "            loss = loss + step_loss\n",
    "        #对所有非填充token的损失进行平均计算。\n",
    "        average_loss = loss / tf.reduce_sum(tf.cast(target_mask, tf.float32))\n",
    "    #设置优化步骤\n",
    "    variables = self.trainable_variables\n",
    "    gradients = tape.gradient(average_loss, variables)\n",
    "    self.optimizer.apply_gradients(zip(gradients, variables))\n",
    "    # 返回一个映射到当前值的字典\n",
    "    return {'batch_loss': average_loss}\n",
    "\n",
    "\n",
    "TrainTranslator._train_step = _train_step"
   ],
   "id": "1b5e4efe9a0e1199",
   "outputs": [],
   "execution_count": 35
  },
  {
   "metadata": {
    "ExecuteTime": {
     "end_time": "2024-04-29T12:03:16.461217Z",
     "start_time": "2024-04-29T12:03:16.447743Z"
    }
   },
   "cell_type": "code",
   "source": [
    "def _loop_step(self, new_tokens, input_mask, enc_output, dec_state):\n",
    "    input_token, target_token = new_tokens[:, 0:1], new_tokens[:, 1:2]\n",
    "    # Run the decoder one step.\n",
    "    decoder_input = DecoderInput(new_tokens=input_token,\n",
    "                                 enc_output=enc_output,\n",
    "                                 mask=input_mask)\n",
    "    dec_result, dec_state = self.decoder(decoder_input, state=dec_state)\n",
    "    self.shape_checker(dec_result.logits, ('batch', 't1', 'logits'))\n",
    "    self.shape_checker(dec_result.attention_weights, ('batch', 't1', 's'))\n",
    "    self.shape_checker(dec_state, ('batch', 'dec_units'))\n",
    "    # `self.loss`返回非填充token的总数。\n",
    "    y = target_token\n",
    "    y_pred = dec_result.logits\n",
    "    step_loss = self.loss(y, y_pred)\n",
    "    return step_loss, dec_state"
   ],
   "id": "e465f8ce36d52d36",
   "outputs": [],
   "execution_count": 36
  },
  {
   "metadata": {
    "ExecuteTime": {
     "end_time": "2024-04-29T12:03:16.523102Z",
     "start_time": "2024-04-29T12:03:16.463214Z"
    }
   },
   "cell_type": "code",
   "source": [
    "TrainTranslator._loop_step = _loop_step\n",
    "\n",
    "translator = TrainTranslator(\n",
    "    embedding_dim, units,\n",
    "    input_text_processor=input_text_processor,\n",
    "    output_text_processor=output_text_processor,\n",
    "    use_tf_function=False)\n",
    "#配置损失和优化器\n",
    "translator.compile(\n",
    "    optimizer=tf.optimizers.Adam(),\n",
    "    loss=MaskedLoss(),\n",
    ")"
   ],
   "id": "dc4b406d5021713e",
   "outputs": [],
   "execution_count": 37
  },
  {
   "metadata": {
    "ExecuteTime": {
     "end_time": "2024-04-29T12:03:16.538575Z",
     "start_time": "2024-04-29T12:03:16.525598Z"
    }
   },
   "cell_type": "code",
   "source": [
    "np.log(output_text_processor.vocabulary_size())\n",
    "# 输出结果:\n",
    "# 8.517193191416238"
   ],
   "id": "7bf520a8b78487e1",
   "outputs": [
    {
     "data": {
      "text/plain": [
       "8.517193191416238"
      ]
     },
     "execution_count": 38,
     "metadata": {},
     "output_type": "execute_result"
    }
   ],
   "execution_count": 38
  },
  {
   "metadata": {
    "ExecuteTime": {
     "end_time": "2024-04-29T12:03:56.235010Z",
     "start_time": "2024-04-29T12:03:16.540571Z"
    }
   },
   "cell_type": "code",
   "source": [
    "%%time\n",
    "for n in range(10):\n",
    "    print(translator.train_step([example_input_batch, example_target_batch]))\n",
    "print()\n",
    "\n",
    "\n",
    "# 输出结果:\n",
    "# {'batch_loss': <tf.Tensor: shape=(), dtype=float32, numpy=7.6101117>}\n",
    "# {'batch_loss': <tf.Tensor: shape=(), dtype=float32, numpy=7.5797815>}\n",
    "# {'batch_loss': <tf.Tensor: shape=(), dtype=float32, numpy=7.522971>}\n",
    "# {'batch_loss': <tf.Tensor: shape=(), dtype=float32, numpy=7.3605533>}\n",
    "# {'batch_loss': <tf.Tensor: shape=(), dtype=float32, numpy=6.785821>}\n",
    "# {'batch_loss': <tf.Tensor: shape=(), dtype=float32, numpy=5.0904937>}\n",
    "# {'batch_loss': <tf.Tensor: shape=(), dtype=float32, numpy=4.8641896>}\n",
    "# {'batch_loss': <tf.Tensor: shape=(), dtype=float32, numpy=4.3120656>}\n",
    "# {'batch_loss': <tf.Tensor: shape=(), dtype=float32, numpy=4.264642>}\n",
    "# {'batch_loss': <tf.Tensor: shape=(), dtype=float32, numpy=4.112561>}"
   ],
   "id": "f3b7de43543b6286",
   "outputs": [
    {
     "name": "stdout",
     "output_type": "stream",
     "text": [
      "{'batch_loss': <tf.Tensor: shape=(), dtype=float32, numpy=7.639651>}\n",
      "{'batch_loss': <tf.Tensor: shape=(), dtype=float32, numpy=7.6114674>}\n",
      "{'batch_loss': <tf.Tensor: shape=(), dtype=float32, numpy=7.5589623>}\n",
      "{'batch_loss': <tf.Tensor: shape=(), dtype=float32, numpy=7.4096403>}\n",
      "{'batch_loss': <tf.Tensor: shape=(), dtype=float32, numpy=6.88526>}\n",
      "{'batch_loss': <tf.Tensor: shape=(), dtype=float32, numpy=5.235115>}\n",
      "{'batch_loss': <tf.Tensor: shape=(), dtype=float32, numpy=5.1976542>}\n",
      "{'batch_loss': <tf.Tensor: shape=(), dtype=float32, numpy=4.3875957>}\n",
      "{'batch_loss': <tf.Tensor: shape=(), dtype=float32, numpy=4.549182>}\n",
      "{'batch_loss': <tf.Tensor: shape=(), dtype=float32, numpy=4.259236>}\n",
      "\n",
      "Wall time: 39.7 s\n"
     ]
    }
   ],
   "execution_count": 39
  },
  {
   "metadata": {
    "ExecuteTime": {
     "end_time": "2024-04-29T12:04:03.040224Z",
     "start_time": "2024-04-29T12:03:56.237357Z"
    }
   },
   "cell_type": "code",
   "source": [
    "@tf.function(input_signature=[[tf.TensorSpec(dtype=tf.string, shape=[None]),\n",
    "                               tf.TensorSpec(dtype=tf.string, shape=[None])]])\n",
    "def _tf_train_step(self, inputs):\n",
    "    return self._train_step(inputs)\n",
    "\n",
    "\n",
    "TrainTranslator._tf_train_step = _tf_train_step\n",
    "\n",
    "translator.use_tf_function = True\n",
    "#第一次运行由于需要对函数进行追踪，故速度会比较慢\n",
    "translator.train_step([example_input_batch, example_target_batch])"
   ],
   "id": "42fdf1c2de5edb31",
   "outputs": [
    {
     "data": {
      "text/plain": [
       "{'batch_loss': <tf.Tensor: shape=(), dtype=float32, numpy=4.248304>}"
      ]
     },
     "execution_count": 40,
     "metadata": {},
     "output_type": "execute_result"
    }
   ],
   "execution_count": 40
  },
  {
   "metadata": {
    "ExecuteTime": {
     "end_time": "2024-04-29T12:04:28.342239Z",
     "start_time": "2024-04-29T12:04:03.043218Z"
    }
   },
   "cell_type": "code",
   "source": [
    "%%time\n",
    "for n in range(10):\n",
    "    print(translator.train_step([example_input_batch, example_target_batch]))\n",
    "print()"
   ],
   "id": "9fe3db5cde852fd6",
   "outputs": [
    {
     "name": "stdout",
     "output_type": "stream",
     "text": [
      "{'batch_loss': <tf.Tensor: shape=(), dtype=float32, numpy=4.272426>}\n",
      "{'batch_loss': <tf.Tensor: shape=(), dtype=float32, numpy=4.2297215>}\n",
      "{'batch_loss': <tf.Tensor: shape=(), dtype=float32, numpy=4.127991>}\n",
      "{'batch_loss': <tf.Tensor: shape=(), dtype=float32, numpy=4.0735254>}\n",
      "{'batch_loss': <tf.Tensor: shape=(), dtype=float32, numpy=3.9900968>}\n",
      "{'batch_loss': <tf.Tensor: shape=(), dtype=float32, numpy=3.9074275>}\n",
      "{'batch_loss': <tf.Tensor: shape=(), dtype=float32, numpy=3.8745506>}\n",
      "{'batch_loss': <tf.Tensor: shape=(), dtype=float32, numpy=3.8343768>}\n",
      "{'batch_loss': <tf.Tensor: shape=(), dtype=float32, numpy=3.792659>}\n",
      "{'batch_loss': <tf.Tensor: shape=(), dtype=float32, numpy=3.7839115>}\n",
      "\n",
      "Wall time: 25.3 s\n"
     ]
    }
   ],
   "execution_count": 41
  },
  {
   "metadata": {
    "ExecuteTime": {
     "end_time": "2024-04-29T12:08:41.410313Z",
     "start_time": "2024-04-29T12:04:28.344237Z"
    }
   },
   "cell_type": "code",
   "source": [
    "losses = []\n",
    "for n in range(100):\n",
    "    print('.', end='')\n",
    "    logs = translator.train_step([example_input_batch, example_target_batch])\n",
    "    losses.append(logs['batch_loss'].numpy())\n",
    "print()\n",
    "plt.plot(losses)\n",
    "# 输出结果:\n",
    "#\n",
    "# [<matplotlib.lines.Line2D at 0x20c362c3c70>]"
   ],
   "id": "19970613f8d38394",
   "outputs": [
    {
     "name": "stdout",
     "output_type": "stream",
     "text": [
      "....................................................................................................\n"
     ]
    },
    {
     "data": {
      "text/plain": [
       "[<matplotlib.lines.Line2D at 0x253befc4710>]"
      ]
     },
     "execution_count": 42,
     "metadata": {},
     "output_type": "execute_result"
    },
    {
     "data": {
      "text/plain": [
       "<Figure size 432x288 with 1 Axes>"
      ],
      "image/png": "[encoded data removed]"
     },
     "metadata": {
      "needs_background": "light"
     },
     "output_type": "display_data"
    }
   ],
   "execution_count": 42
  },
  {
   "metadata": {
    "ExecuteTime": {
     "end_time": "2024-04-29T12:08:41.441419Z",
     "start_time": "2024-04-29T12:08:41.412309Z"
    }
   },
   "cell_type": "code",
   "source": [
    "train_translator = TrainTranslator(\n",
    "    embedding_dim, units,\n",
    "    input_text_processor=input_text_processor,\n",
    "    output_text_processor=output_text_processor)\n",
    "# Configure the loss and optimizer\n",
    "train_translator.compile(\n",
    "    optimizer=tf.optimizers.Adam(),\n",
    "    loss=MaskedLoss(),\n",
    ")"
   ],
   "id": "90aa79f7a87dae47",
   "outputs": [],
   "execution_count": 43
  },
  {
   "metadata": {
    "ExecuteTime": {
     "end_time": "2024-04-29T12:09:04.503089Z",
     "start_time": "2024-04-29T12:08:41.443750Z"
    }
   },
   "cell_type": "code",
   "source": [
    "class BatchLogs(tf.keras.callbacks.Callback):\n",
    "    def __init__(self, key):\n",
    "        self.key = key\n",
    "        self.logs = []\n",
    "\n",
    "    def on_train_batch_end(self, n, logs):\n",
    "        self.logs.append(logs[self.key])\n",
    "\n",
    "\n",
    "batch_loss = BatchLogs('batch_loss')\n",
    "\n",
    "train_translator.fit(dataset, epochs=3,\n",
    "                     steps_per_epoch=3,\n",
    "                     callbacks=[batch_loss])"
   ],
   "id": "d36e523c918388c",
   "outputs": [
    {
     "name": "stdout",
     "output_type": "stream",
     "text": [
      "Epoch 1/3\n",
      "3/3 [==============================] - 11s 2s/step - batch_loss: 7.5697\n",
      "Epoch 2/3\n",
      "3/3 [==============================] - 5s 2s/step - batch_loss: 6.2834\n",
      "Epoch 3/3\n",
      "3/3 [==============================] - 6s 2s/step - batch_loss: 5.5557\n"
     ]
    },
    {
     "data": {
      "text/plain": [
       "<keras.callbacks.History at 0x253bf0088d0>"
      ]
     },
     "execution_count": 44,
     "metadata": {},
     "output_type": "execute_result"
    }
   ],
   "execution_count": 44
  },
  {
   "metadata": {
    "ExecuteTime": {
     "end_time": "2024-04-29T12:09:04.642331Z",
     "start_time": "2024-04-29T12:09:04.504587Z"
    }
   },
   "cell_type": "code",
   "source": [
    "# 如果上一个cell中的epoches和steps_per_epoch过小，此处没有绘图效果。\n",
    "plt.plot(batch_loss.logs)\n",
    "plt.ylim([0, 3])\n",
    "plt.xlabel('Batch #')\n",
    "plt.ylabel('CE/token')"
   ],
   "id": "7b6aa847d2c0f673",
   "outputs": [
    {
     "data": {
      "text/plain": [
       "Text(0, 0.5, 'CE/token')"
      ]
     },
     "execution_count": 45,
     "metadata": {},
     "output_type": "execute_result"
    },
    {
     "data": {
      "text/plain": [
       "<Figure size 432x288 with 1 Axes>"
      ],
      "image/png": "[encoded data removed]"
     },
     "metadata": {
      "needs_background": "light"
     },
     "output_type": "display_data"
    }
   ],
   "execution_count": 45
  },
  {
   "metadata": {
    "ExecuteTime": {
     "end_time": "2024-04-29T12:09:04.858764Z",
     "start_time": "2024-04-29T12:09:04.644329Z"
    }
   },
   "cell_type": "code",
   "source": [
    "class Translator(tf.Module):\n",
    "    def __init__(self, encoder, decoder, input_text_processor,\n",
    "                 output_text_processor):\n",
    "        self.encoder = encoder\n",
    "        self.decoder = decoder\n",
    "        self.input_text_processor = input_text_processor\n",
    "        self.output_text_processor = output_text_processor\n",
    "        self.output_token_string_from_index = (\n",
    "            tf.keras.layers.experimental.preprocessing.StringLookup(\n",
    "                vocabulary=output_text_processor.get_vocabulary(),\n",
    "                mask_token='',\n",
    "                invert=True))\n",
    "\n",
    "        # 输出不应该产生padding、unknown或start。\n",
    "        index_from_string = tf.keras.layers.experimental.preprocessing.StringLookup(\n",
    "            vocabulary=output_text_processor.get_vocabulary(), mask_token='')\n",
    "        token_mask_ids = index_from_string(['', '[UNK]', '[START]']).numpy()\n",
    "        token_mask = np.zeros([index_from_string.vocabulary_size()], dtype=np.bool)\n",
    "\n",
    "        token_mask[np.array(token_mask_ids)] = True\n",
    "        self.token_mask = token_mask\n",
    "        self.start_token = index_from_string(tf.constant('[START]'))\n",
    "        self.end_token = index_from_string(tf.constant('[END]'))\n",
    "\n",
    "\n",
    "translator = Translator(\n",
    "    encoder=train_translator.encoder,\n",
    "    decoder=train_translator.decoder,\n",
    "    input_text_processor=input_text_processor,\n",
    "    output_text_processor=output_text_processor,\n",
    ")"
   ],
   "id": "2038dd2fdcf63973",
   "outputs": [],
   "execution_count": 46
  },
  {
   "metadata": {
    "ExecuteTime": {
     "end_time": "2024-04-29T12:09:04.889688Z",
     "start_time": "2024-04-29T12:09:04.860638Z"
    }
   },
   "cell_type": "code",
   "source": [
    "def tokens_to_text(self, result_tokens):\n",
    "    shape_checker = ShapeChecker()\n",
    "    shape_checker(result_tokens, ('batch', 't'))\n",
    "    result_text_tokens = self.output_token_string_from_index(result_tokens)\n",
    "    shape_checker(result_text_tokens, ('batch', 't'))\n",
    "    result_text = tf.strings.reduce_join(result_text_tokens,\n",
    "                                         axis=1, separator=' ')\n",
    "    shape_checker(result_text, 'batch')\n",
    "    result_text = tf.strings.strip(result_text)\n",
    "    shape_checker(result_text, ('batch',))\n",
    "    return result_text\n",
    "\n",
    "\n",
    "Translator.tokens_to_text = tokens_to_text\n",
    "\n",
    "example_output_tokens = tf.random.uniform(\n",
    "    shape=[5, 2], minval=0, dtype=tf.int64,\n",
    "    maxval=output_text_processor.vocabulary_size())\n",
    "\n",
    "translator.tokens_to_text(example_output_tokens).numpy()"
   ],
   "id": "1e1ee7a796c37760",
   "outputs": [
    {
     "data": {
      "text/plain": [
       "array([b'scratch words', b'invaded atlantic', b'culture pretty',\n",
       "       b'start prisoner', b'attacked loud'], dtype=object)"
      ]
     },
     "execution_count": 47,
     "metadata": {},
     "output_type": "execute_result"
    }
   ],
   "execution_count": 47
  },
  {
   "metadata": {
    "ExecuteTime": {
     "end_time": "2024-04-29T12:09:04.920528Z",
     "start_time": "2024-04-29T12:09:04.891589Z"
    }
   },
   "cell_type": "code",
   "source": [
    "def sample(self, logits, temperature):\n",
    "    shape_checker = ShapeChecker()\n",
    "    shape_checker(logits, ('batch', 't', 'vocab'))\n",
    "    shape_checker(self.token_mask, ('vocab',))\n",
    "    token_mask = self.token_mask[tf.newaxis, tf.newaxis, :]\n",
    "    shape_checker(token_mask, ('batch', 't', 'vocab'), broadcast=True)\n",
    "    logits = tf.where(self.token_mask, -np.inf, logits)\n",
    "    if temperature == 0.0:\n",
    "        new_tokens = tf.argmax(logits, axis=-1)\n",
    "    else:\n",
    "        logits = tf.squeeze(logits, axis=1)\n",
    "        new_tokens = tf.random.categorical(logits / temperature,\n",
    "                                           num_samples=1)\n",
    "        shape_checker(new_tokens, ('batch', 't'))\n",
    "        return new_tokens\n",
    "\n",
    "Translator.sample = sample\n",
    "\n",
    "example_logits = tf.random.normal([5, 1,\n",
    "                                   output_text_processor.vocabulary_size()])\n",
    "example_output_tokens = translator.sample(example_logits, temperature=1.0)\n",
    "example_output_tokens"
   ],
   "id": "128f292dfeb3d484",
   "outputs": [
    {
     "data": {
      "text/plain": [
       "<tf.Tensor: shape=(5, 1), dtype=int64, numpy=\n",
       "array([[ 822],\n",
       "       [1846],\n",
       "       [4591],\n",
       "       [4055],\n",
       "       [4753]], dtype=int64)>"
      ]
     },
     "execution_count": 48,
     "metadata": {},
     "output_type": "execute_result"
    }
   ],
   "execution_count": 48
  },
  {
   "metadata": {
    "ExecuteTime": {
     "end_time": "2024-04-29T12:09:04.936163Z",
     "start_time": "2024-04-29T12:09:04.923024Z"
    }
   },
   "cell_type": "code",
   "source": [
    "def translate_unrolled(self,\n",
    "                       input_text, *,\n",
    "                       max_length=50,\n",
    "                       return_attention=True,\n",
    "                       temperature=1.0):\n",
    "    batch_size = tf.shape(input_text)[0]\n",
    "    input_tokens = self.input_text_processor(input_text)\n",
    "    enc_output, enc_state = self.encoder(input_tokens)\n",
    "    dec_state = enc_state\n",
    "    new_tokens = tf.fill([batch_size, 1], self.start_token)\n",
    "    result_tokens = []\n",
    "    attention = []\n",
    "    done = tf.zeros([batch_size, 1], dtype=tf.bool)\n",
    "    for _ in range(max_length):\n",
    "        dec_input = DecoderInput(new_tokens=new_tokens,\n",
    "                                 enc_output=enc_output,\n",
    "                                 mask=(input_tokens != 0))\n",
    "        dec_result, dec_state = self.decoder(dec_input, state=dec_state)\n",
    "        attention.append(dec_result.attention_weights)\n",
    "        new_tokens = self.sample(dec_result.logits, temperature)\n",
    "        done = done | (new_tokens == self.end_token)\n",
    "        # 一旦一个序列完成，它只产生0-padding。\n",
    "        new_tokens = tf.where(done, tf.constant(0, dtype=tf.int64), new_tokens)\n",
    "        result_tokens.append(new_tokens)\n",
    "        if tf.executing_eagerly() and tf.reduce_all(done):\n",
    "            break\n",
    "    # 将生成的token id列表转换为字符串列表。\n",
    "\n",
    "    result_tokens = tf.concat(result_tokens, axis=-1)\n",
    "    result_text = self.tokens_to_text(result_tokens)\n",
    "    if return_attention:\n",
    "        attention_stack = tf.concat(attention, axis=1)\n",
    "        return {'text': result_text, 'attention': attention_stack}\n",
    "    else:\n",
    "        return {'text': result_text}"
   ],
   "id": "dadd9bc7fdbf4891",
   "outputs": [],
   "execution_count": 49
  },
  {
   "metadata": {
    "ExecuteTime": {
     "end_time": "2024-04-29T12:09:04.951689Z",
     "start_time": "2024-04-29T12:09:04.937994Z"
    }
   },
   "cell_type": "code",
   "source": "Translator.translate = translate_unrolled",
   "id": "93752e7e36f8a821",
   "outputs": [],
   "execution_count": 50
  },
  {
   "metadata": {
    "ExecuteTime": {
     "end_time": "2024-04-29T13:48:50.584651Z",
     "start_time": "2024-04-29T13:48:49.336968Z"
    }
   },
   "cell_type": "code",
   "source": [
    "%%time\n",
    "input_text = tf.constant([\n",
    "    'hace mucho frio aqui.',  # \"It's freezing here.\"\n",
    "    'Esta es mi vida.',  # \"This is my life.\"\"\n",
    "])\n",
    "result = translator.translate(\n",
    "    input_text=input_text)\n",
    "\n",
    "# print(result)\n",
    "print(result['text'][0].numpy().decode())\n",
    "print(result['text'][1].numpy().decode())\n",
    "print()\n",
    "# 实验结果:\n",
    "# it is very cold here .\n",
    "# this is my life .\n",
    "# Wall time: 266 ms\n"
   ],
   "id": "e69544db06379360",
   "outputs": [
    {
     "name": "stdout",
     "output_type": "stream",
     "text": [
      "{'text': <tf.Tensor: shape=(2,), dtype=string, numpy=\n",
      "array([b'times youre working semester true blamed me quiet children raised you ?',\n",
      "       b'suspiciously congratulate band visiting daughters were is just the to that . im to mary to the we the to thought'],\n",
      "      dtype=object)>, 'attention': <tf.Tensor: shape=(2, 22, 7), dtype=float32, numpy=\n",
      "array([[[0.16798447, 0.15657383, 0.1527461 , 0.14327456, 0.12872632,\n",
      "         0.12972283, 0.1209719 ],\n",
      "        [0.16806002, 0.1566215 , 0.15276507, 0.14328238, 0.1287463 ,\n",
      "         0.12965065, 0.12087414],\n",
      "        [0.16815458, 0.15668833, 0.15278639, 0.14329687, 0.12879424,\n",
      "         0.12954411, 0.12073549],\n",
      "        [0.16829023, 0.15678498, 0.15281142, 0.14332126, 0.12888093,\n",
      "         0.12938526, 0.12052585],\n",
      "        [0.16846424, 0.15691493, 0.15284175, 0.1433545 , 0.12902395,\n",
      "         0.12915997, 0.12024073],\n",
      "        [0.16871476, 0.15710591, 0.15287669, 0.14340009, 0.12924306,\n",
      "         0.12882833, 0.11983111],\n",
      "        [0.16898303, 0.15733394, 0.15290318, 0.143451  , 0.12956193,\n",
      "         0.12842235, 0.11934455],\n",
      "        [0.16922294, 0.15758388, 0.15290065, 0.14350937, 0.12999333,\n",
      "         0.12796463, 0.11882519],\n",
      "        [0.16930522, 0.15776478, 0.1528518 , 0.14356703, 0.1305086 ,\n",
      "         0.1275749 , 0.11842769],\n",
      "        [0.1692024 , 0.15784492, 0.15276067, 0.14361504, 0.13104363,\n",
      "         0.12731631, 0.11821703],\n",
      "        [0.16894278, 0.15781602, 0.15263934, 0.14365207, 0.13154043,\n",
      "         0.12721035, 0.11819901],\n",
      "        [0.16861187, 0.15772481, 0.1525095 , 0.14367956, 0.13197069,\n",
      "         0.12720536, 0.1182982 ],\n",
      "        [0.16828474, 0.1576065 , 0.15238588, 0.14369719, 0.13230662,\n",
      "         0.12726383, 0.11845519],\n",
      "        [0.16799822, 0.15749101, 0.15228188, 0.14370681, 0.13256592,\n",
      "         0.12733889, 0.11861733],\n",
      "        [0.16776034, 0.1573909 , 0.1521985 , 0.14371252, 0.1327598 ,\n",
      "         0.12741534, 0.11876263],\n",
      "        [0.16756931, 0.15730822, 0.15213272, 0.14371581, 0.13290486,\n",
      "         0.12748417, 0.11888494],\n",
      "        [0.16741788, 0.15724163, 0.15208113, 0.14371753, 0.13301422,\n",
      "         0.12754281, 0.11898489],\n",
      "        [0.16729814, 0.15718833, 0.15204073, 0.14371821, 0.13309756,\n",
      "         0.12759142, 0.11906565],\n",
      "        [0.16720337, 0.1571457 , 0.15200892, 0.14371842, 0.13316174,\n",
      "         0.1276313 , 0.11913057],\n",
      "        [0.16712782, 0.15711159, 0.15198368, 0.14371814, 0.13321176,\n",
      "         0.1276639 , 0.11918303],\n",
      "        [0.16706732, 0.1570841 , 0.15196355, 0.14371765, 0.13325135,\n",
      "         0.12769057, 0.11922544],\n",
      "        [0.16701835, 0.15706187, 0.1519472 , 0.143717  , 0.13328302,\n",
      "         0.12771252, 0.11926001]],\n",
      "\n",
      "       [[0.16141209, 0.15815692, 0.14986701, 0.14615057, 0.13241772,\n",
      "         0.13100697, 0.12098869],\n",
      "        [0.16150747, 0.1582001 , 0.14987488, 0.14614227, 0.13242689,\n",
      "         0.13094087, 0.12090745],\n",
      "        [0.16165604, 0.15826344, 0.14988485, 0.14612572, 0.13245177,\n",
      "         0.13083585, 0.1207823 ],\n",
      "        [0.16187792, 0.15834787, 0.14988849, 0.14609905, 0.1325006 ,\n",
      "         0.13067992, 0.12060609],\n",
      "        [0.16220291, 0.15846483, 0.14989178, 0.14605665, 0.13257186,\n",
      "         0.13045406, 0.12035795],\n",
      "        [0.162664  , 0.15862161, 0.14988914, 0.14599538, 0.13269009,\n",
      "         0.13012938, 0.12001039],\n",
      "        [0.16324782, 0.15879251, 0.1498649 , 0.14590092, 0.13286959,\n",
      "         0.12972254, 0.1196018 ],\n",
      "        [0.16389324, 0.15893891, 0.14980063, 0.14577346, 0.13313127,\n",
      "         0.12927693, 0.11918553],\n",
      "        [0.16444278, 0.15899955, 0.1496927 , 0.14561084, 0.13345563,\n",
      "         0.12889937, 0.11889917],\n",
      "        [0.16480923, 0.15894216, 0.14955023, 0.14544259, 0.1338214 ,\n",
      "         0.12864406, 0.11879034],\n",
      "        [0.16496098, 0.15879683, 0.14939803, 0.14528565, 0.13417204,\n",
      "         0.12853357, 0.1188528 ],\n",
      "        [0.16494705, 0.15860021, 0.14925903, 0.1451638 , 0.1344777 ,\n",
      "         0.12853248, 0.11901967],\n",
      "        [0.16484971, 0.15840487, 0.14914705, 0.14506757, 0.1347329 ,\n",
      "         0.12857793, 0.11921991],\n",
      "        [0.16473506, 0.15824556, 0.1490574 , 0.14499648, 0.13490945,\n",
      "         0.12865216, 0.11940389],\n",
      "        [0.16461945, 0.15811561, 0.14898805, 0.14494354, 0.13504356,\n",
      "         0.12872405, 0.11956573],\n",
      "        [0.16451415, 0.15800986, 0.14893667, 0.14491017, 0.13514432,\n",
      "         0.1287875 , 0.11969727],\n",
      "        [0.16442534, 0.15792975, 0.14889762, 0.14488265, 0.13521804,\n",
      "         0.12884142, 0.11980519],\n",
      "        [0.16434729, 0.15786354, 0.14886904, 0.14486773, 0.13527447,\n",
      "         0.12888657, 0.1198913 ],\n",
      "        [0.16429062, 0.15781668, 0.14884491, 0.1448539 , 0.13531782,\n",
      "         0.12892073, 0.11995537],\n",
      "        [0.16423927, 0.15777582, 0.1488284 , 0.14484547, 0.1353492 ,\n",
      "         0.12895031, 0.12001157],\n",
      "        [0.16420096, 0.15774679, 0.14881392, 0.14483517, 0.13537365,\n",
      "         0.12897344, 0.12005603],\n",
      "        [0.16416971, 0.15772547, 0.1488054 , 0.1448323 , 0.13539173,\n",
      "         0.12899008, 0.12008537]]], dtype=float32)>}\n",
      "times youre working semester true blamed me quiet children raised you ?\n",
      "suspiciously congratulate band visiting daughters were is just the to that . im to mary to the we the to thought\n",
      "\n",
      "Wall time: 1.24 s\n"
     ]
    }
   ],
   "execution_count": 54
  },
  {
   "metadata": {
    "ExecuteTime": {
     "end_time": "2024-04-29T13:51:17.579695Z",
     "start_time": "2024-04-29T13:51:17.561231Z"
    }
   },
   "cell_type": "code",
   "source": [
    "from IPython import get_ipython\n",
    "\n",
    "# 获取当前运行的笔记本\n",
    "notebook = get_ipython().get_ipython().user_ns['In']\n",
    "\n",
    "# 打印所有输入单元格的内容\n",
    "for cell in notebook:\n",
    "    print(cell)\n"
   ],
   "id": "4eddb182287e1870",
   "outputs": [
    {
     "name": "stdout",
     "output_type": "stream",
     "text": [
      "\n",
      "dec_result, dec_state = decoder(\n",
      "    DecoderInput(sampled_token,\n",
      "                 example_enc_output,\n",
      "                 mask=(example_tokens != 0)),\n",
      "    state=dec_state)\n",
      "sampled_token = tf.random.categorical(dec_result.logits[:, 0, :], num_samples=1)\n",
      "first_word = vocab[sampled_token.numpy()]\n",
      "print(first_word[:5])\n",
      "# tensorflow_text, tensorflow, matplotlib\n",
      "import numpy as np\n",
      "\n",
      "import typing\n",
      "from typing import Any, Tuple\n",
      "# Customize types\n",
      "import tensorflow as tf\n",
      "from tensorflow.keras.layers.experimental import preprocessing\n",
      "# import preprocess module\n",
      "import tensorflow_text as tf_text\n",
      "import matplotlib.pyplot as plt\n",
      "import matplotlib.ticker as ticker\n",
      "class ShapeChecker:\n",
      "    def __init__(self):\n",
      "        # save every cache\n",
      "        self.shapes = {}\n",
      "\n",
      "    def __call__(self, tensor, names, broadcast=False):\n",
      "        if not tf.executing_eagerly():\n",
      "            return\n",
      "\n",
      "        if isinstance(names, str):\n",
      "            names = (names,)\n",
      "\n",
      "        shape = tf.shape(tensor)\n",
      "        rank = tf.rank(tensor)\n",
      "\n",
      "        if rank != len(names):\n",
      "            raise ValueError(f'Rank mismatch:\\n'\n",
      "                             f'    found {rank}: {shape.numpy()}\\n'\n",
      "                             f'    expected {len(names)}: {names}\\n')\n",
      "\n",
      "        for i, name in enumerate(names):\n",
      "            if isinstance(name, int):\n",
      "                old_dim = name\n",
      "            else:\n",
      "                old_dim = self.shapes.get(name, None)\n",
      "            new_dim = shape[i]\n",
      "\n",
      "            if broadcast and new_dim == 1:\n",
      "                continue\n",
      "\n",
      "            if old_dim is None:\n",
      "                # if the name is new, save it to the cache\n",
      "                self.shapes[name] = new_dim\n",
      "                continue\n",
      "\n",
      "            if new_dim != old_dim:\n",
      "                raise ValueError(f\"Shape mismatch for dimension: '{name}'\\n\"\n",
      "                                 f\"    found: {new_dim}\\n\"\n",
      "                                 f\"    expected: {old_dim}\\n\")\n",
      "# Download the file\n",
      "import pathlib\n",
      "\n",
      "path_to_zip = tf.keras.utils.get_file(\n",
      "    'spa-eng.zip', origin='http://storage.googleapis.com/download.tensorflow.org/data/spa-eng.zip',\n",
      "    extract=True)\n",
      "\n",
      "path_to_file = pathlib.Path(path_to_zip).parent /'spa-eng/spa.txt'\n",
      "def load_data(path):\n",
      "    text = path.read_text(encoding='utf-8')\n",
      "\n",
      "    lines = text.splitlines()\n",
      "    pairs = [line.split('\\t') for line in lines]\n",
      "\n",
      "    inp = [inp for targ, inp in pairs]\n",
      "    targ = [targ for targ, inp in pairs]\n",
      "\n",
      "    return targ, inp\n",
      "targ, inp = load_data(path_to_file)\n",
      "BUFFER_SIZE = len(inp)\n",
      "BATCH_SIZE = 64\n",
      "# create a tf.data.Dataset string to wash the data and batch it efficiently\n",
      "dataset = tf.data.Dataset.from_tensor_slices((inp, targ)).shuffle(BUFFER_SIZE)\n",
      "dataset = dataset.batch(BATCH_SIZE)\n",
      "for example_input_batch, example_target_batch in dataset.take(1):\n",
      "    print(example_input_batch[:5])\n",
      "    print()\n",
      "    print(example_target_batch[:5])\n",
      "    break\n",
      "example_text = tf.constant('¿Todavía está en casa?')\n",
      "\n",
      "print(example_text.numpy())\n",
      "print(tf_text.normalize_utf8(example_text, 'NFKD').numpy())\n",
      "def tf_lower_and_split_punct(text):\n",
      "    # 对字符进行切分\n",
      "    text = tf_text.normalize_utf8(text, 'NFKD')\n",
      "    text = tf.strings.lower(text)\n",
      "    # 保持空格，从a到z，并选择标点符号。\n",
      "    text = tf.strings.regex_replace(text, '[^ a-z.?!,¿]', '')\n",
      "    # 在标点符号周围添加空格。\n",
      "    text = tf.strings.regex_replace(text, '[.?!,¿]', r' \\0 ')\n",
      "    # 去空格。\n",
      "    text = tf.strings.strip(text)\n",
      "    text = tf.strings.join(['[START]', text, '[END]'], separator=' ')\n",
      "    return text\n",
      "print(example_text.numpy().decode())\n",
      "# 输出解码结果(德语)\n",
      "print(tf_lower_and_split_punct(example_text).numpy().decode())\n",
      "# 对句子进行头尾标注\n",
      "# 输出结果：\n",
      "# ¿Todavía está en casa?\n",
      "# [START] ¿ todavia esta en casa ? [END]\n",
      "max_vocab_size = 5000\n",
      "\n",
      "input_text_processor = preprocessing.TextVectorization(\n",
      "    standardize=tf_lower_and_split_punct,\n",
      "    max_tokens=max_vocab_size)\n",
      "input_text_processor.adapt(inp)\n",
      "# this is first 10 words in vocabulary\n",
      "print(input_text_processor.get_vocabulary()[:10])\n",
      "output_text_processor = preprocessing.TextVectorization(\n",
      "    standardize=tf_lower_and_split_punct,\n",
      "    max_tokens=max_vocab_size)\n",
      "output_text_processor.adapt(targ)\n",
      "print(output_text_processor.get_vocabulary()[:10])\n",
      "example_tokens = input_text_processor(example_input_batch)\n",
      "print(example_tokens[:3, :10])\n",
      "input_vocab = np.array(input_text_processor.get_vocabulary())\n",
      "tokens = input_vocab[example_tokens[0].numpy()]\n",
      "' '.join(tokens)\n",
      "plt.subplot(1, 2, 1)\n",
      "plt.pcolormesh(example_tokens)\n",
      "plt.title('Token IDs')\n",
      "plt.subplot(1, 2, 2)\n",
      "plt.pcolormesh(example_tokens != 0)\n",
      "plt.title('Mask')\n",
      "#嵌入维度\n",
      "embedding_dim = 256\n",
      "#隐藏单元个数\n",
      "units = 1024\n",
      "class Encoder(tf.keras.layers.Layer):\n",
      "    def __init__(self, input_vocab_size, embedding_dim, enc_units):\n",
      "        super(Encoder, self).__init__()\n",
      "        self.enc_units = enc_units\n",
      "        self.input_vocab_size = input_vocab_size\n",
      "        # 嵌入层将令牌转换为向量\n",
      "        self.embedding = tf.keras.layers.Embedding(self.input_vocab_size,\n",
      "                                                   embedding_dim)\n",
      "        # GRU RNN层依次处理这些向量。\n",
      "        self.gru = tf.keras.layers.GRU(self.enc_units,\n",
      "                                       return_sequences=True,\n",
      "                                       return_state=True,\n",
      "                                       recurrent_initializer='glorot_uniform')\n",
      "\n",
      "    def call(self, tokens, state=None):\n",
      "        shape_checker = ShapeChecker()\n",
      "        shape_checker(tokens, ('batch', 's'))\n",
      "        # 嵌入层查找每个标记的嵌入情况。\n",
      "        vectors = self.embedding(tokens)\n",
      "        shape_checker(vectors, ('batch', 's', 'embed_dim'))\n",
      "        output, state = self.gru(vectors, initial_state=state)\n",
      "        shape_checker(output, ('batch', 's', 'enc_units'))\n",
      "        shape_checker(state, ('batch', 'enc_units'))\n",
      "        # 返回新的序列和它的状态。\n",
      "        return output, state\n",
      "# 将输入的文本转换为token。\n",
      "example_tokens = input_text_processor(example_input_batch)\n",
      "# 对输入序列进行编码。\n",
      "encoder = Encoder(input_text_processor.vocabulary_size(),\n",
      "                  embedding_dim, units)\n",
      "example_enc_output, example_enc_state = encoder(example_tokens)\n",
      "print(f'Input batch, shape (batch): {example_input_batch.shape}')\n",
      "print(f'Input batch tokens, shape (batch, s): {example_tokens.shape}')\n",
      "print(f'Encoder output, shape (batch, s, units): {example_enc_output.shape}')\n",
      "print(f'Encoder state, shape (batch, units): {example_enc_state.shape}')\n",
      "class BahdanauAttention(tf.keras.layers.Layer):\n",
      "    def __init__(self, units):\n",
      "        super().__init__()\n",
      "        self.W1 = tf.keras.layers.Dense(units, use_bias=False)\n",
      "        self.W2 = tf.keras.layers.Dense(units, use_bias=False)\n",
      "        self.attention = tf.keras.layers.AdditiveAttention()\n",
      "\n",
      "    def call(self, query, value, mask):\n",
      "        shape_checker = ShapeChecker()\n",
      "        shape_checker(query, ('batch', 't', 'query_units'))\n",
      "        shape_checker(value, ('batch', 's', 'value_units'))\n",
      "        shape_checker(mask, ('batch', 's'))\n",
      "        # 构建Query矩阵\n",
      "        w1_query = self.W1(query)\n",
      "        shape_checker(w1_query, ('batch', 't', 'attn_units'))\n",
      "        # 构建Key矩阵\n",
      "        w2_key = self.W2(value)\n",
      "        shape_checker(w2_key, ('batch', 's', 'attn_units'))\n",
      "        # 构建mask矩阵\n",
      "        query_mask = tf.ones(tf.shape(query)[:-1], dtype=bool)\n",
      "        value_mask = mask\n",
      "        # 计算得到注意力图谱\n",
      "        context_vector, attention_weights = self.attention(\n",
      "            inputs=[w1_query, value, w2_key],\n",
      "            mask=[query_mask, value_mask],\n",
      "            return_attention_scores=True,\n",
      "        )\n",
      "        shape_checker(context_vector, ('batch', 't', 'value_units'))\n",
      "        shape_checker(attention_weights, ('batch', 't', 's'))\n",
      "        return context_vector, attention_weights\n",
      "# test attention\n",
      "# 创建一个BahdanauAttention层\n",
      "attention_layer = BahdanauAttention(units)\n",
      "# 后续解码器将产生这个attention查询(Query矩阵)\n",
      "example_attention_query = tf.random.normal(shape=[len(example_tokens), 2, 10])\n",
      "# 添加到编码tokens\n",
      "context_vector, attention_weights = attention_layer(\n",
      "    query=example_attention_query,\n",
      "    value=example_enc_output,\n",
      "    mask=(example_tokens != 0))\n",
      "\n",
      "print(f'Attention result shape: (batch_size, query_seq_length, units): {context_vector.shape}')\n",
      "\n",
      "print(f'Attention weights shape: (batch_size, query_seq_length,value_seq_length): {attention_weights.shape}')\n",
      "plt.subplot(1, 2, 1)\n",
      "plt.pcolormesh(attention_weights[:, 0, :])\n",
      "plt.title('Attention weights')\n",
      "plt.subplot(1, 2, 2)\n",
      "plt.pcolormesh(example_tokens != 0)\n",
      "plt.title('Mask')\n",
      "# 输出结果：\n",
      "# Text(0.5, 1.0, 'Mask')\n",
      "#取出部分attention用于展示\n",
      "attention_slice = attention_weights[0, 0].numpy()\n",
      "attention_slice = attention_slice[attention_slice != 0]\n",
      "plt.suptitle('Attention weights for one sequence')\n",
      "plt.figure(figsize=(12, 6))\n",
      "a1 = plt.subplot(1, 2, 1)\n",
      "plt.bar(range(len(attention_slice)), attention_slice)\n",
      "# 固定x轴\n",
      "plt.xlim(plt.xlim())\n",
      "plt.xlabel('Attention weights')\n",
      "a2 = plt.subplot(1, 2, 2)\n",
      "plt.bar(range(len(attention_slice)), attention_slice)\n",
      "plt.xlabel('Attention weights, zoomed')\n",
      "# 放大结果\n",
      "top = max(a1.get_ylim())\n",
      "zoom = 0.85 * top\n",
      "a2.set_ylim([0.90 * top, top])\n",
      "a1.plot(a1.get_xlim(), [zoom, zoom], color='k')\n",
      "\n",
      "\n",
      "# 输出结果：\n",
      "# [<matplotlib.lines.Line2D at 0x20c356a9670>]\n",
      "# <Figure size 432x288 with 0 Axes>\n",
      "class Decoder(tf.keras.layers.Layer):\n",
      "    def __init__(self, output_vocab_size, embedding_dim, dec_units):\n",
      "        super(Decoder, self).__init__()\n",
      "        self.dec_units = dec_units\n",
      "        self.output_vocab_size = output_vocab_size\n",
      "        self.embedding_dim = embedding_dim\n",
      "\n",
      "        # 嵌入层将令牌ID转为向量\n",
      "        self.embedding = tf.keras.layers.Embedding(self.output_vocab_size,\n",
      "                                                   embedding_dim)\n",
      "        # RNN会记录到目前为止已经生成的内容。\n",
      "        self.gru = tf.keras.layers.GRU(self.dec_units,\n",
      "                                       return_sequences=True,\n",
      "                                       return_state=True,\n",
      "                                       recurrent_initializer='glorot_uniform')\n",
      "        # RNN的输出将是注意力层的查询。\n",
      "        self.attention = BahdanauAttention(self.dec_units)\n",
      "        self.Wc = tf.keras.layers.Dense(dec_units, activation=tf.math.tanh,\n",
      "                                        use_bias=False)\n",
      "        self.fc = tf.keras.layers.Dense(self.output_vocab_size)\n",
      "class DecoderInput(typing.NamedTuple):\n",
      "    new_tokens: Any\n",
      "    enc_output: Any\n",
      "    mask: Any\n",
      "\n",
      "\n",
      "class DecoderOutput(typing.NamedTuple):\n",
      "    logits: Any\n",
      "    attention_weights: Any\n",
      "def call(self,\n",
      "         inputs: DecoderInput,\n",
      "         state=None) -> Tuple[DecoderOutput, tf.Tensor]:\n",
      "    shape_checker = ShapeChecker()\n",
      "    shape_checker(inputs.new_tokens, ('batch', 't'))\n",
      "    shape_checker(inputs.enc_output, ('batch', 's', 'enc_units'))\n",
      "    shape_checker(inputs.mask, ('batch', 's'))\n",
      "    if state is not None:\n",
      "        shape_checker(state, ('batch', 'dec_units'))\n",
      "    #查询词嵌入\n",
      "    vectors = self.embedding(inputs.new_tokens)\n",
      "    shape_checker(vectors, ('batch', 't', 'embedding_dim'))\n",
      "    #用RNN处理一个步骤\n",
      "    rnn_output, state = self.gru(vectors, initial_state=state)\n",
      "    shape_checker(rnn_output, ('batch', 't', 'dec_units'))\n",
      "    shape_checker(state, ('batch', 'dec_units'))\n",
      "    #使用RNN输出作为关注的查询，超过了编码器的输出。\n",
      "\n",
      "    context_vector, attention_weights = self.attention(\n",
      "        query=rnn_output, value=inputs.enc_output, mask=inputs.mask)\n",
      "    shape_checker(context_vector, ('batch', 't', 'dec_units'))\n",
      "    shape_checker(attention_weights, ('batch', 't', 's'))\n",
      "    # 加入context_vector和rnn_output\n",
      "    context_and_rnn_output = tf.concat([context_vector, rnn_output], axis=-1)\n",
      "    attention_vector = self.Wc(context_and_rnn_output)\n",
      "    shape_checker(attention_vector, ('batch', 't', 'dec_units'))\n",
      "    # 生成logit预测\n",
      "    logits = self.fc(attention_vector)\n",
      "    shape_checker(logits, ('batch', 't', 'output_vocab_size'))\n",
      "    return DecoderOutput(logits, attention_weights), state\n",
      "Decoder.call = call\n",
      "decoder = Decoder(output_text_processor.vocabulary_size(),\n",
      "                  embedding_dim, units)\n",
      "#转换目标序列，并收集[START]标记。\n",
      "example_output_tokens = output_text_processor(example_target_batch)\n",
      "start_index = output_text_processor.get_vocabulary().index('[START]')\n",
      "first_token = tf.constant([[start_index]] * example_output_tokens.shape[0])\n",
      "#运行decoder\n",
      "dec_result, dec_state = decoder(\n",
      "    inputs=DecoderInput(new_tokens=first_token,\n",
      "                        enc_output=example_enc_output,\n",
      "                        mask=(example_tokens != 0)),\n",
      "    state=example_enc_state\n",
      ")\n",
      "print(f'logits shape: (batch_size, t, output_vocab_size)'\n",
      "      f'{dec_result.logits.shape}')\n",
      "print(f'state shape: (batch_size, dec_units) {dec_state.shape}')\n",
      "sampled_token = tf.random.categorical(dec_result.logits[:, 0, :], num_samples=1)\n",
      "#将令牌解码为输出的第一个单词。\n",
      "vocab = np.array(output_text_processor.get_vocabulary())\n",
      "first_word = vocab[sampled_token.numpy()]\n",
      "print(first_word[:5])\n",
      "dec_result, dec_state = decoder(\n",
      "    DecoderInput(sampled_token,\n",
      "                 example_enc_output,\n",
      "                 mask=(example_tokens != 0)),\n",
      "    state=dec_state)\n",
      "sampled_token = tf.random.categorical(dec_result.logits[:, 0, :], num_samples=1)\n",
      "first_word = vocab[sampled_token.numpy()]\n",
      "print(first_word[:5])\n",
      "class MaskedLoss(tf.keras.losses.Loss):\n",
      "    def __init__(self):\n",
      "        self.name = 'masked_loss'\n",
      "        self.loss = tf.keras.losses.SparseCategoricalCrossentropy(\n",
      "            from_logits=True, reduction='none')\n",
      "\n",
      "    def __call__(self, y_true, y_pred):\n",
      "        shape_checker = ShapeChecker()\n",
      "        shape_checker(y_true, ('batch', 't'))\n",
      "        shape_checker(y_pred, ('batch', 't', 'logits'))\n",
      "        # 计算该批次中每一项的损失。\n",
      "        loss = self.loss(y_true, y_pred)\n",
      "        shape_checker(loss, ('batch', 't'))\n",
      "        # 屏蔽掉填充物上的损失。\n",
      "        mask = tf.cast(y_true != 0, tf.float32)\n",
      "        shape_checker(mask, ('batch', 't'))\n",
      "        loss *= mask\n",
      "        # 返回总的loss。\n",
      "        return tf.reduce_sum(loss)\n",
      "class TrainTranslator(tf.keras.Model):\n",
      "    def __init__(self, embedding_dim, units,\n",
      "                 input_text_processor,\n",
      "                 output_text_processor,\n",
      "                 use_tf_function=True):\n",
      "        super().__init__()\n",
      "\n",
      "        # 构建编码器和解码器\n",
      "        encoder = Encoder(input_text_processor.vocabulary_size(),\n",
      "                          embedding_dim, units)\n",
      "        decoder = Decoder(output_text_processor.vocabulary_size(),\n",
      "                          embedding_dim, units)\n",
      "        self.encoder = encoder\n",
      "        self.decoder = decoder\n",
      "        self.input_text_processor = input_text_processor\n",
      "        self.output_text_processor = output_text_processor\n",
      "        self.use_tf_function = use_tf_function\n",
      "        self.shape_checker = ShapeChecker()\n",
      "\n",
      "    def train_step(self, inputs):\n",
      "        self.shape_checker = ShapeChecker()\n",
      "\n",
      "        if self.use_tf_function:\n",
      "            return self._tf_train_step(inputs)\n",
      "        else:\n",
      "            return self._train_step(inputs)\n",
      "def _preprocess(self, input_text, target_text):\n",
      "    self.shape_checker(input_text, ('batch',))\n",
      "    self.shape_checker(target_text, ('batch',))\n",
      "    # 将文本转换为tokens ID\n",
      "    input_tokens = self.input_text_processor(input_text)\n",
      "    target_tokens = self.output_text_processor(target_text)\n",
      "    self.shape_checker(input_tokens, ('batch', 's'))\n",
      "    self.shape_checker(target_tokens, ('batch', 't'))\n",
      "    # 将ID转换为掩码\n",
      "    input_mask = input_tokens != 0\n",
      "    self.shape_checker(input_mask, ('batch', 's'))\n",
      "    target_mask = target_tokens != 0\n",
      "\n",
      "    self.shape_checker(target_mask, ('batch', 't'))\n",
      "    return input_tokens, input_mask, target_tokens, target_mask\n",
      "\n",
      "\n",
      "TrainTranslator._preprocess = _preprocess\n",
      "def _train_step(self, inputs):\n",
      "    input_text, target_text = inputs\n",
      "    (input_tokens, input_mask,\n",
      "     target_tokens, target_mask) = self._preprocess(input_text, target_text)\n",
      "    max_target_length = tf.shape(target_tokens)[1]\n",
      "    with tf.GradientTape() as tape:\n",
      "        #对输入进行编码\n",
      "        enc_output, enc_state = self.encoder(input_tokens)\n",
      "        self.shape_checker(enc_output, ('batch', 's', 'enc_units'))\n",
      "        self.shape_checker(enc_state, ('batch', 'enc_units'))\n",
      "        #将解码器的状态初始化为编码器的最终状态。\n",
      "        # 这只有在编码器和解码器有相同数量的单位时生效。\n",
      "        dec_state = enc_state\n",
      "        loss = tf.constant(0.0)\n",
      "        for t in tf.range(max_target_length - 1):\n",
      "            #从目标序列中传入两个token:\n",
      "            # 1.解码器的当前输入.\n",
      "            # 2.解码器下次预测的目标.\n",
      "            new_tokens = target_tokens[:, t:t + 2]\n",
      "            step_loss, dec_state = self._loop_step(new_tokens, input_mask,\n",
      "                                                   enc_output, dec_state)\n",
      "            loss = loss + step_loss\n",
      "        #对所有非填充token的损失进行平均计算。\n",
      "        average_loss = loss / tf.reduce_sum(tf.cast(target_mask, tf.float32))\n",
      "    #设置优化步骤\n",
      "    variables = self.trainable_variables\n",
      "    gradients = tape.gradient(average_loss, variables)\n",
      "    self.optimizer.apply_gradients(zip(gradients, variables))\n",
      "    # 返回一个映射到当前值的字典\n",
      "    return {'batch_loss': average_loss}\n",
      "\n",
      "\n",
      "TrainTranslator._train_step = _train_step\n",
      "def _loop_step(self, new_tokens, input_mask, enc_output, dec_state):\n",
      "    input_token, target_token = new_tokens[:, 0:1], new_tokens[:, 1:2]\n",
      "    # Run the decoder one step.\n",
      "    decoder_input = DecoderInput(new_tokens=input_token,\n",
      "                                 enc_output=enc_output,\n",
      "                                 mask=input_mask)\n",
      "    dec_result, dec_state = self.decoder(decoder_input, state=dec_state)\n",
      "    self.shape_checker(dec_result.logits, ('batch', 't1', 'logits'))\n",
      "    self.shape_checker(dec_result.attention_weights, ('batch', 't1', 's'))\n",
      "    self.shape_checker(dec_state, ('batch', 'dec_units'))\n",
      "    # `self.loss`返回非填充token的总数。\n",
      "    y = target_token\n",
      "    y_pred = dec_result.logits\n",
      "    step_loss = self.loss(y, y_pred)\n",
      "    return step_loss, dec_state\n",
      "TrainTranslator._loop_step = _loop_step\n",
      "\n",
      "translator = TrainTranslator(\n",
      "    embedding_dim, units,\n",
      "    input_text_processor=input_text_processor,\n",
      "    output_text_processor=output_text_processor,\n",
      "    use_tf_function=False)\n",
      "#配置损失和优化器\n",
      "translator.compile(\n",
      "    optimizer=tf.optimizers.Adam(),\n",
      "    loss=MaskedLoss(),\n",
      ")\n",
      "np.log(output_text_processor.vocabulary_size())\n",
      "# 输出结果:\n",
      "# 8.517193191416238\n",
      "get_ipython().run_cell_magic('time', '', \"for n in range(10):\\n    print(translator.train_step([example_input_batch, example_target_batch]))\\nprint()\\n\\n\\n# 输出结果:\\n# {'batch_loss': <tf.Tensor: shape=(), dtype=float32, numpy=7.6101117>}\\n# {'batch_loss': <tf.Tensor: shape=(), dtype=float32, numpy=7.5797815>}\\n# {'batch_loss': <tf.Tensor: shape=(), dtype=float32, numpy=7.522971>}\\n# {'batch_loss': <tf.Tensor: shape=(), dtype=float32, numpy=7.3605533>}\\n# {'batch_loss': <tf.Tensor: shape=(), dtype=float32, numpy=6.785821>}\\n# {'batch_loss': <tf.Tensor: shape=(), dtype=float32, numpy=5.0904937>}\\n# {'batch_loss': <tf.Tensor: shape=(), dtype=float32, numpy=4.8641896>}\\n# {'batch_loss': <tf.Tensor: shape=(), dtype=float32, numpy=4.3120656>}\\n# {'batch_loss': <tf.Tensor: shape=(), dtype=float32, numpy=4.264642>}\\n# {'batch_loss': <tf.Tensor: shape=(), dtype=float32, numpy=4.112561>}\\n\")\n",
      "@tf.function(input_signature=[[tf.TensorSpec(dtype=tf.string, shape=[None]),\n",
      "                               tf.TensorSpec(dtype=tf.string, shape=[None])]])\n",
      "def _tf_train_step(self, inputs):\n",
      "    return self._train_step(inputs)\n",
      "\n",
      "\n",
      "TrainTranslator._tf_train_step = _tf_train_step\n",
      "\n",
      "translator.use_tf_function = True\n",
      "#第一次运行由于需要对函数进行追踪，故速度会比较慢\n",
      "translator.train_step([example_input_batch, example_target_batch])\n",
      "get_ipython().run_cell_magic('time', '', 'for n in range(10):\\n    print(translator.train_step([example_input_batch, example_target_batch]))\\nprint()\\n')\n",
      "losses = []\n",
      "for n in range(100):\n",
      "    print('.', end='')\n",
      "    logs = translator.train_step([example_input_batch, example_target_batch])\n",
      "    losses.append(logs['batch_loss'].numpy())\n",
      "print()\n",
      "plt.plot(losses)\n",
      "# 输出结果:\n",
      "#\n",
      "# [<matplotlib.lines.Line2D at 0x20c362c3c70>]\n",
      "train_translator = TrainTranslator(\n",
      "    embedding_dim, units,\n",
      "    input_text_processor=input_text_processor,\n",
      "    output_text_processor=output_text_processor)\n",
      "# Configure the loss and optimizer\n",
      "train_translator.compile(\n",
      "    optimizer=tf.optimizers.Adam(),\n",
      "    loss=MaskedLoss(),\n",
      ")\n",
      "class BatchLogs(tf.keras.callbacks.Callback):\n",
      "    def __init__(self, key):\n",
      "        self.key = key\n",
      "        self.logs = []\n",
      "\n",
      "    def on_train_batch_end(self, n, logs):\n",
      "        self.logs.append(logs[self.key])\n",
      "\n",
      "\n",
      "batch_loss = BatchLogs('batch_loss')\n",
      "\n",
      "train_translator.fit(dataset, epochs=3,\n",
      "                     steps_per_epoch=3,\n",
      "                     callbacks=[batch_loss])\n",
      "# 如果上一个cell中的epoches和steps_per_epoch过小，此处没有绘图效果。\n",
      "plt.plot(batch_loss.logs)\n",
      "plt.ylim([0, 3])\n",
      "plt.xlabel('Batch #')\n",
      "plt.ylabel('CE/token')\n",
      "class Translator(tf.Module):\n",
      "    def __init__(self, encoder, decoder, input_text_processor,\n",
      "                 output_text_processor):\n",
      "        self.encoder = encoder\n",
      "        self.decoder = decoder\n",
      "        self.input_text_processor = input_text_processor\n",
      "        self.output_text_processor = output_text_processor\n",
      "        self.output_token_string_from_index = (\n",
      "            tf.keras.layers.experimental.preprocessing.StringLookup(\n",
      "                vocabulary=output_text_processor.get_vocabulary(),\n",
      "                mask_token='',\n",
      "                invert=True))\n",
      "\n",
      "        # 输出不应该产生padding、unknown或start。\n",
      "        index_from_string = tf.keras.layers.experimental.preprocessing.StringLookup(\n",
      "            vocabulary=output_text_processor.get_vocabulary(), mask_token='')\n",
      "        token_mask_ids = index_from_string(['', '[UNK]', '[START]']).numpy()\n",
      "        token_mask = np.zeros([index_from_string.vocabulary_size()], dtype=np.bool)\n",
      "\n",
      "        token_mask[np.array(token_mask_ids)] = True\n",
      "        self.token_mask = token_mask\n",
      "        self.start_token = index_from_string(tf.constant('[START]'))\n",
      "        self.end_token = index_from_string(tf.constant('[END]'))\n",
      "\n",
      "\n",
      "translator = Translator(\n",
      "    encoder=train_translator.encoder,\n",
      "    decoder=train_translator.decoder,\n",
      "    input_text_processor=input_text_processor,\n",
      "    output_text_processor=output_text_processor,\n",
      ")\n",
      "def tokens_to_text(self, result_tokens):\n",
      "    shape_checker = ShapeChecker()\n",
      "    shape_checker(result_tokens, ('batch', 't'))\n",
      "    result_text_tokens = self.output_token_string_from_index(result_tokens)\n",
      "    shape_checker(result_text_tokens, ('batch', 't'))\n",
      "    result_text = tf.strings.reduce_join(result_text_tokens,\n",
      "                                         axis=1, separator=' ')\n",
      "    shape_checker(result_text, 'batch')\n",
      "    result_text = tf.strings.strip(result_text)\n",
      "    shape_checker(result_text, ('batch',))\n",
      "    return result_text\n",
      "\n",
      "\n",
      "Translator.tokens_to_text = tokens_to_text\n",
      "\n",
      "example_output_tokens = tf.random.uniform(\n",
      "    shape=[5, 2], minval=0, dtype=tf.int64,\n",
      "    maxval=output_text_processor.vocabulary_size())\n",
      "\n",
      "translator.tokens_to_text(example_output_tokens).numpy()\n",
      "def sample(self, logits, temperature):\n",
      "    shape_checker = ShapeChecker()\n",
      "    shape_checker(logits, ('batch', 't', 'vocab'))\n",
      "    shape_checker(self.token_mask, ('vocab',))\n",
      "    token_mask = self.token_mask[tf.newaxis, tf.newaxis, :]\n",
      "    shape_checker(token_mask, ('batch', 't', 'vocab'), broadcast=True)\n",
      "    logits = tf.where(self.token_mask, -np.inf, logits)\n",
      "    if temperature == 0.0:\n",
      "        new_tokens = tf.argmax(logits, axis=-1)\n",
      "    else:\n",
      "        logits = tf.squeeze(logits, axis=1)\n",
      "        new_tokens = tf.random.categorical(logits / temperature,\n",
      "                                           num_samples=1)\n",
      "        shape_checker(new_tokens, ('batch', 't'))\n",
      "        return new_tokens\n",
      "\n",
      "Translator.sample = sample\n",
      "\n",
      "example_logits = tf.random.normal([5, 1,\n",
      "                                   output_text_processor.vocabulary_size()])\n",
      "example_output_tokens = translator.sample(example_logits, temperature=1.0)\n",
      "example_output_tokens\n",
      "def translate_unrolled(self,\n",
      "                       input_text, *,\n",
      "                       max_length=50,\n",
      "                       return_attention=True,\n",
      "                       temperature=1.0):\n",
      "    batch_size = tf.shape(input_text)[0]\n",
      "    input_tokens = self.input_text_processor(input_text)\n",
      "    enc_output, enc_state = self.encoder(input_tokens)\n",
      "    dec_state = enc_state\n",
      "    new_tokens = tf.fill([batch_size, 1], self.start_token)\n",
      "    result_tokens = []\n",
      "    attention = []\n",
      "    done = tf.zeros([batch_size, 1], dtype=tf.bool)\n",
      "    for _ in range(max_length):\n",
      "        dec_input = DecoderInput(new_tokens=new_tokens,\n",
      "                                 enc_output=enc_output,\n",
      "                                 mask=(input_tokens != 0))\n",
      "        dec_result, dec_state = self.decoder(dec_input, state=dec_state)\n",
      "        attention.append(dec_result.attention_weights)\n",
      "        new_tokens = self.sample(dec_result.logits, temperature)\n",
      "        done = done | (new_tokens == self.end_token)\n",
      "        # 一旦一个序列完成，它只产生0-padding。\n",
      "        new_tokens = tf.where(done, tf.constant(0, dtype=tf.int64), new_tokens)\n",
      "        result_tokens.append(new_tokens)\n",
      "        if tf.executing_eagerly() and tf.reduce_all(done):\n",
      "            break\n",
      "    # 将生成的token id列表转换为字符串列表。\n",
      "\n",
      "    result_tokens = tf.concat(result_tokens, axis=-1)\n",
      "    result_text = self.tokens_to_text(result_tokens)\n",
      "    if return_attention:\n",
      "        attention_stack = tf.concat(attention, axis=1)\n",
      "        return {'text': result_text, 'attention': attention_stack}\n",
      "    else:\n",
      "        return {'text': result_text}\n",
      "Translator.translate = translate_unrolled\n",
      "get_ipython().run_cell_magic('time', '', 'input_text = tf.constant([\\n    \\'hace mucho frio aqui.\\',  # \"It\\'s freezing here.\"\\n    \\'Esta es mi vida.\\',  # \"This is my life.\"\"\\n])\\nresult = translator.translate(\\n    input_text=input_text)\\n\\nprint(result[\\'text\\'][0].numpy().decode())\\nprint(result[\\'text\\'][1].numpy().decode())\\nprint()\\n# 实验结果:\\n# it is very cold here .\\n# this is my life .\\n# Wall time: 266 ms\\n\\n')\n",
      "get_ipython().run_cell_magic('time', '', 'input_text = tf.constant([\\n    \\'hola\\',  # \"It\\'s freezing here.\"\\n    \\'Esta es mi vida.\\',  # \"This is my life.\"\"\\n])\\nresult = translator.translate(\\n    input_text=input_text)\\n\\nprint(result[\\'text\\'][0].numpy().decode())\\nprint(result[\\'text\\'][1].numpy().decode())\\nprint()\\n# 实验结果:\\n# it is very cold here .\\n# this is my life .\\n# Wall time: 266 ms\\n\\n')\n",
      "get_ipython().run_cell_magic('time', '', 'input_text = tf.constant([\\n    \\'hola\\',  # \"It\\'s freezing here.\"\\n    \\'Esta es mi vida.\\',  # \"This is my life.\"\"\\n])\\nresult = translator.translate(\\n    input_text=input_text)\\n\\nprint(result[\\'text\\'][0].numpy().decode())\\nprint(result[\\'text\\'][1].numpy().decode())\\nprint()\\n# 实验结果:\\n# it is very cold here .\\n# this is my life .\\n# Wall time: 266 ms\\n\\n')\n",
      "get_ipython().run_cell_magic('time', '', 'input_text = tf.constant([\\n    \\'hace mucho frio aqui.\\',  # \"It\\'s freezing here.\"\\n    \\'Esta es mi vida.\\',  # \"This is my life.\"\"\\n])\\nresult = translator.translate(\\n    input_text=input_text)\\n\\nprint(result)\\nprint(result[\\'text\\'][0].numpy().decode())\\nprint(result[\\'text\\'][1].numpy().decode())\\nprint()\\n# 实验结果:\\n# it is very cold here .\\n# this is my life .\\n# Wall time: 266 ms\\n\\n')\n",
      "from IPython import get_ipython\n",
      "\n",
      "# 获取当前运行的笔记本\n",
      "notebook = get_ipython().get_ipython().user_ns['In']\n",
      "\n",
      "# 打印所有输入单元格的内容\n",
      "for cell in notebook:\n",
      "    print(cell)\n"
     ]
    }
   ],
   "execution_count": 55
  },
  {
   "metadata": {},
   "cell_type": "code",
   "outputs": [],
   "execution_count": null,
   "source": "",
   "id": "5520434f3d758c9d"
  }
 ],
 "metadata": {
  "kernelspec": {
   "display_name": "Python 3",
   "language": "python",
   "name": "python3"
  },
  "language_info": {
   "codemirror_mode": {
    "name": "ipython",
    "version": 2
   },
   "file_extension": ".py",
   "mimetype": "text/x-python",
   "name": "python",
   "nbconvert_exporter": "python",
   "pygments_lexer": "ipython2",
   "version": "2.7.6"
  }
 },
 "nbformat": 4,
 "nbformat_minor": 5
}
